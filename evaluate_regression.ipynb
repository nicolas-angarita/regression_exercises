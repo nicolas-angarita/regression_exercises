{
 "cells": [
  {
   "cell_type": "code",
   "execution_count": 1,
   "id": "a943de68",
   "metadata": {},
   "outputs": [],
   "source": [
    "import pandas as pd\n",
    "import numpy as np \n",
    "\n",
    "import seaborn as sns\n",
    "import matplotlib.pyplot as plt\n",
    "\n",
    "from scipy import stats\n",
    "from sklearn.preprocessing import MinMaxScaler\n",
    "from sklearn.metrics import mean_squared_error, r2_score, explained_variance_score\n",
    "from sklearn.feature_selection import f_regression \n",
    "from sklearn.linear_model import LinearRegression\n",
    "from math import sqrt\n",
    "\n",
    "import wrangle as w\n",
    "\n",
    "import warnings\n",
    "warnings.filterwarnings('ignore')"
   ]
  },
  {
   "cell_type": "code",
   "execution_count": 2,
   "id": "f38de1e2",
   "metadata": {},
   "outputs": [
    {
     "data": {
      "text/html": [
       "<div>\n",
       "<style scoped>\n",
       "    .dataframe tbody tr th:only-of-type {\n",
       "        vertical-align: middle;\n",
       "    }\n",
       "\n",
       "    .dataframe tbody tr th {\n",
       "        vertical-align: top;\n",
       "    }\n",
       "\n",
       "    .dataframe thead th {\n",
       "        text-align: right;\n",
       "    }\n",
       "</style>\n",
       "<table border=\"1\" class=\"dataframe\">\n",
       "  <thead>\n",
       "    <tr style=\"text-align: right;\">\n",
       "      <th></th>\n",
       "      <th>bedrooms</th>\n",
       "      <th>bathrooms</th>\n",
       "      <th>sq_ft</th>\n",
       "      <th>fips</th>\n",
       "      <th>year_built</th>\n",
       "      <th>tax_amount</th>\n",
       "      <th>tax_value</th>\n",
       "    </tr>\n",
       "  </thead>\n",
       "  <tbody>\n",
       "    <tr>\n",
       "      <th>0</th>\n",
       "      <td>4.0</td>\n",
       "      <td>2.0</td>\n",
       "      <td>3633.0</td>\n",
       "      <td>6037.0</td>\n",
       "      <td>2005.0</td>\n",
       "      <td>6941.39</td>\n",
       "      <td>296425.0</td>\n",
       "    </tr>\n",
       "    <tr>\n",
       "      <th>1</th>\n",
       "      <td>3.0</td>\n",
       "      <td>4.0</td>\n",
       "      <td>1620.0</td>\n",
       "      <td>6037.0</td>\n",
       "      <td>2011.0</td>\n",
       "      <td>10244.94</td>\n",
       "      <td>847770.0</td>\n",
       "    </tr>\n",
       "    <tr>\n",
       "      <th>2</th>\n",
       "      <td>3.0</td>\n",
       "      <td>2.0</td>\n",
       "      <td>2077.0</td>\n",
       "      <td>6037.0</td>\n",
       "      <td>1926.0</td>\n",
       "      <td>7924.68</td>\n",
       "      <td>646760.0</td>\n",
       "    </tr>\n",
       "    <tr>\n",
       "      <th>3</th>\n",
       "      <td>3.0</td>\n",
       "      <td>1.0</td>\n",
       "      <td>1244.0</td>\n",
       "      <td>6037.0</td>\n",
       "      <td>1950.0</td>\n",
       "      <td>2532.88</td>\n",
       "      <td>169471.0</td>\n",
       "    </tr>\n",
       "    <tr>\n",
       "      <th>4</th>\n",
       "      <td>3.0</td>\n",
       "      <td>2.0</td>\n",
       "      <td>1300.0</td>\n",
       "      <td>6037.0</td>\n",
       "      <td>1950.0</td>\n",
       "      <td>3110.99</td>\n",
       "      <td>233266.0</td>\n",
       "    </tr>\n",
       "  </tbody>\n",
       "</table>\n",
       "</div>"
      ],
      "text/plain": [
       "   bedrooms  bathrooms   sq_ft    fips  year_built  tax_amount  tax_value\n",
       "0       4.0        2.0  3633.0  6037.0      2005.0     6941.39   296425.0\n",
       "1       3.0        4.0  1620.0  6037.0      2011.0    10244.94   847770.0\n",
       "2       3.0        2.0  2077.0  6037.0      1926.0     7924.68   646760.0\n",
       "3       3.0        1.0  1244.0  6037.0      1950.0     2532.88   169471.0\n",
       "4       3.0        2.0  1300.0  6037.0      1950.0     3110.99   233266.0"
      ]
     },
     "execution_count": 2,
     "metadata": {},
     "output_type": "execute_result"
    }
   ],
   "source": [
    "df = w.wrangle_zillow()\n",
    "df.head()"
   ]
  },
  {
   "cell_type": "code",
   "execution_count": 3,
   "id": "69f95403",
   "metadata": {},
   "outputs": [
    {
     "data": {
      "text/html": [
       "<div>\n",
       "<style scoped>\n",
       "    .dataframe tbody tr th:only-of-type {\n",
       "        vertical-align: middle;\n",
       "    }\n",
       "\n",
       "    .dataframe tbody tr th {\n",
       "        vertical-align: top;\n",
       "    }\n",
       "\n",
       "    .dataframe thead th {\n",
       "        text-align: right;\n",
       "    }\n",
       "</style>\n",
       "<table border=\"1\" class=\"dataframe\">\n",
       "  <thead>\n",
       "    <tr style=\"text-align: right;\">\n",
       "      <th></th>\n",
       "      <th>count</th>\n",
       "      <th>mean</th>\n",
       "      <th>std</th>\n",
       "      <th>min</th>\n",
       "      <th>25%</th>\n",
       "      <th>50%</th>\n",
       "      <th>75%</th>\n",
       "      <th>max</th>\n",
       "    </tr>\n",
       "  </thead>\n",
       "  <tbody>\n",
       "    <tr>\n",
       "      <th>bedrooms</th>\n",
       "      <td>2079451.0</td>\n",
       "      <td>3.277011</td>\n",
       "      <td>0.879244</td>\n",
       "      <td>1.00</td>\n",
       "      <td>3.00</td>\n",
       "      <td>3.0</td>\n",
       "      <td>4.000</td>\n",
       "      <td>6.00</td>\n",
       "    </tr>\n",
       "    <tr>\n",
       "      <th>bathrooms</th>\n",
       "      <td>2079451.0</td>\n",
       "      <td>2.186984</td>\n",
       "      <td>0.871963</td>\n",
       "      <td>1.00</td>\n",
       "      <td>2.00</td>\n",
       "      <td>2.0</td>\n",
       "      <td>3.000</td>\n",
       "      <td>6.00</td>\n",
       "    </tr>\n",
       "    <tr>\n",
       "      <th>sq_ft</th>\n",
       "      <td>2079451.0</td>\n",
       "      <td>1798.989806</td>\n",
       "      <td>783.878927</td>\n",
       "      <td>1.00</td>\n",
       "      <td>1252.00</td>\n",
       "      <td>1609.0</td>\n",
       "      <td>2161.000</td>\n",
       "      <td>9880.00</td>\n",
       "    </tr>\n",
       "    <tr>\n",
       "      <th>fips</th>\n",
       "      <td>2079451.0</td>\n",
       "      <td>6048.298681</td>\n",
       "      <td>20.364186</td>\n",
       "      <td>6037.00</td>\n",
       "      <td>6037.00</td>\n",
       "      <td>6037.0</td>\n",
       "      <td>6059.000</td>\n",
       "      <td>6111.00</td>\n",
       "    </tr>\n",
       "    <tr>\n",
       "      <th>year_built</th>\n",
       "      <td>2079451.0</td>\n",
       "      <td>1960.622959</td>\n",
       "      <td>21.844072</td>\n",
       "      <td>1801.00</td>\n",
       "      <td>1949.00</td>\n",
       "      <td>1958.0</td>\n",
       "      <td>1975.000</td>\n",
       "      <td>2016.00</td>\n",
       "    </tr>\n",
       "    <tr>\n",
       "      <th>tax_amount</th>\n",
       "      <td>2079451.0</td>\n",
       "      <td>4918.528934</td>\n",
       "      <td>3638.783252</td>\n",
       "      <td>16.48</td>\n",
       "      <td>2518.33</td>\n",
       "      <td>4045.5</td>\n",
       "      <td>6215.515</td>\n",
       "      <td>100379.34</td>\n",
       "    </tr>\n",
       "    <tr>\n",
       "      <th>tax_value</th>\n",
       "      <td>2079451.0</td>\n",
       "      <td>399342.888356</td>\n",
       "      <td>313500.608467</td>\n",
       "      <td>22.00</td>\n",
       "      <td>187135.00</td>\n",
       "      <td>322628.0</td>\n",
       "      <td>517000.000</td>\n",
       "      <td>1999995.00</td>\n",
       "    </tr>\n",
       "  </tbody>\n",
       "</table>\n",
       "</div>"
      ],
      "text/plain": [
       "                count           mean            std      min        25%  \\\n",
       "bedrooms    2079451.0       3.277011       0.879244     1.00       3.00   \n",
       "bathrooms   2079451.0       2.186984       0.871963     1.00       2.00   \n",
       "sq_ft       2079451.0    1798.989806     783.878927     1.00    1252.00   \n",
       "fips        2079451.0    6048.298681      20.364186  6037.00    6037.00   \n",
       "year_built  2079451.0    1960.622959      21.844072  1801.00    1949.00   \n",
       "tax_amount  2079451.0    4918.528934    3638.783252    16.48    2518.33   \n",
       "tax_value   2079451.0  399342.888356  313500.608467    22.00  187135.00   \n",
       "\n",
       "                 50%         75%         max  \n",
       "bedrooms         3.0       4.000        6.00  \n",
       "bathrooms        2.0       3.000        6.00  \n",
       "sq_ft         1609.0    2161.000     9880.00  \n",
       "fips          6037.0    6059.000     6111.00  \n",
       "year_built    1958.0    1975.000     2016.00  \n",
       "tax_amount    4045.5    6215.515   100379.34  \n",
       "tax_value   322628.0  517000.000  1999995.00  "
      ]
     },
     "execution_count": 3,
     "metadata": {},
     "output_type": "execute_result"
    }
   ],
   "source": [
    "df.describe().T"
   ]
  },
  {
   "cell_type": "code",
   "execution_count": 4,
   "id": "873228cf",
   "metadata": {},
   "outputs": [
    {
     "data": {
      "text/plain": [
       "((1455615, 7), (727807, 7), (727808, 7))"
      ]
     },
     "execution_count": 4,
     "metadata": {},
     "output_type": "execute_result"
    }
   ],
   "source": [
    "train, validate, test = w.train_val_test(df, stratify = 'tax_value')\n",
    "train.shape, validate.shape, test.shape"
   ]
  },
  {
   "cell_type": "code",
   "execution_count": 6,
   "id": "b901ba86",
   "metadata": {},
   "outputs": [],
   "source": [
    "mms = MinMaxScaler()\n",
    "\n",
    "train['sq_ft'] = mms.fit_transform(train[['sq_ft']])"
   ]
  },
  {
   "cell_type": "code",
   "execution_count": 23,
   "id": "653e2bfe",
   "metadata": {},
   "outputs": [
    {
     "data": {
      "text/plain": [
       "399191.6"
      ]
     },
     "execution_count": 23,
     "metadata": {},
     "output_type": "execute_result"
    }
   ],
   "source": [
    "baseline = round(train['tax_value'].mean(), 2)\n",
    "baseline"
   ]
  },
  {
   "cell_type": "code",
   "execution_count": 9,
   "id": "cf600fb9",
   "metadata": {},
   "outputs": [],
   "source": [
    "preds = train[['sq_ft', 'tax_value']]"
   ]
  },
  {
   "cell_type": "code",
   "execution_count": 24,
   "id": "5bee9997",
   "metadata": {},
   "outputs": [
    {
     "data": {
      "text/html": [
       "<div>\n",
       "<style scoped>\n",
       "    .dataframe tbody tr th:only-of-type {\n",
       "        vertical-align: middle;\n",
       "    }\n",
       "\n",
       "    .dataframe tbody tr th {\n",
       "        vertical-align: top;\n",
       "    }\n",
       "\n",
       "    .dataframe thead th {\n",
       "        text-align: right;\n",
       "    }\n",
       "</style>\n",
       "<table border=\"1\" class=\"dataframe\">\n",
       "  <thead>\n",
       "    <tr style=\"text-align: right;\">\n",
       "      <th></th>\n",
       "      <th>sq_ft</th>\n",
       "      <th>tax_value</th>\n",
       "      <th>yhat</th>\n",
       "      <th>residuals</th>\n",
       "      <th>baseline</th>\n",
       "    </tr>\n",
       "  </thead>\n",
       "  <tbody>\n",
       "    <tr>\n",
       "      <th>553891</th>\n",
       "      <td>0.320984</td>\n",
       "      <td>318856.0</td>\n",
       "      <td>721660.687491</td>\n",
       "      <td>402804.687491</td>\n",
       "      <td>399191.6</td>\n",
       "    </tr>\n",
       "    <tr>\n",
       "      <th>863544</th>\n",
       "      <td>0.198704</td>\n",
       "      <td>279877.0</td>\n",
       "      <td>438029.322610</td>\n",
       "      <td>158152.322610</td>\n",
       "      <td>399191.6</td>\n",
       "    </tr>\n",
       "    <tr>\n",
       "      <th>682472</th>\n",
       "      <td>0.142018</td>\n",
       "      <td>92106.0</td>\n",
       "      <td>306544.583923</td>\n",
       "      <td>214438.583923</td>\n",
       "      <td>399191.6</td>\n",
       "    </tr>\n",
       "    <tr>\n",
       "      <th>865965</th>\n",
       "      <td>0.184735</td>\n",
       "      <td>111459.0</td>\n",
       "      <td>405627.726291</td>\n",
       "      <td>294168.726291</td>\n",
       "      <td>399191.6</td>\n",
       "    </tr>\n",
       "    <tr>\n",
       "      <th>718183</th>\n",
       "      <td>0.125822</td>\n",
       "      <td>164846.0</td>\n",
       "      <td>268977.515727</td>\n",
       "      <td>104131.515727</td>\n",
       "      <td>399191.6</td>\n",
       "    </tr>\n",
       "  </tbody>\n",
       "</table>\n",
       "</div>"
      ],
      "text/plain": [
       "           sq_ft  tax_value           yhat      residuals  baseline\n",
       "553891  0.320984   318856.0  721660.687491  402804.687491  399191.6\n",
       "863544  0.198704   279877.0  438029.322610  158152.322610  399191.6\n",
       "682472  0.142018    92106.0  306544.583923  214438.583923  399191.6\n",
       "865965  0.184735   111459.0  405627.726291  294168.726291  399191.6\n",
       "718183  0.125822   164846.0  268977.515727  104131.515727  399191.6"
      ]
     },
     "execution_count": 24,
     "metadata": {},
     "output_type": "execute_result"
    }
   ],
   "source": [
    "preds['baseline'] = baseline\n",
    "preds.head()"
   ]
  },
  {
   "cell_type": "markdown",
   "id": "02e7e7c5",
   "metadata": {},
   "source": [
    "## 2. Fit a linear regression model (ordinary least squares) and compute yhat, predictions of taxvaluedollarcnt using only calculatedfinishedsqft."
   ]
  },
  {
   "cell_type": "code",
   "execution_count": 7,
   "id": "11dcc337",
   "metadata": {},
   "outputs": [
    {
     "data": {
      "text/html": [
       "<style>#sk-container-id-1 {color: black;background-color: white;}#sk-container-id-1 pre{padding: 0;}#sk-container-id-1 div.sk-toggleable {background-color: white;}#sk-container-id-1 label.sk-toggleable__label {cursor: pointer;display: block;width: 100%;margin-bottom: 0;padding: 0.3em;box-sizing: border-box;text-align: center;}#sk-container-id-1 label.sk-toggleable__label-arrow:before {content: \"▸\";float: left;margin-right: 0.25em;color: #696969;}#sk-container-id-1 label.sk-toggleable__label-arrow:hover:before {color: black;}#sk-container-id-1 div.sk-estimator:hover label.sk-toggleable__label-arrow:before {color: black;}#sk-container-id-1 div.sk-toggleable__content {max-height: 0;max-width: 0;overflow: hidden;text-align: left;background-color: #f0f8ff;}#sk-container-id-1 div.sk-toggleable__content pre {margin: 0.2em;color: black;border-radius: 0.25em;background-color: #f0f8ff;}#sk-container-id-1 input.sk-toggleable__control:checked~div.sk-toggleable__content {max-height: 200px;max-width: 100%;overflow: auto;}#sk-container-id-1 input.sk-toggleable__control:checked~label.sk-toggleable__label-arrow:before {content: \"▾\";}#sk-container-id-1 div.sk-estimator input.sk-toggleable__control:checked~label.sk-toggleable__label {background-color: #d4ebff;}#sk-container-id-1 div.sk-label input.sk-toggleable__control:checked~label.sk-toggleable__label {background-color: #d4ebff;}#sk-container-id-1 input.sk-hidden--visually {border: 0;clip: rect(1px 1px 1px 1px);clip: rect(1px, 1px, 1px, 1px);height: 1px;margin: -1px;overflow: hidden;padding: 0;position: absolute;width: 1px;}#sk-container-id-1 div.sk-estimator {font-family: monospace;background-color: #f0f8ff;border: 1px dotted black;border-radius: 0.25em;box-sizing: border-box;margin-bottom: 0.5em;}#sk-container-id-1 div.sk-estimator:hover {background-color: #d4ebff;}#sk-container-id-1 div.sk-parallel-item::after {content: \"\";width: 100%;border-bottom: 1px solid gray;flex-grow: 1;}#sk-container-id-1 div.sk-label:hover label.sk-toggleable__label {background-color: #d4ebff;}#sk-container-id-1 div.sk-serial::before {content: \"\";position: absolute;border-left: 1px solid gray;box-sizing: border-box;top: 0;bottom: 0;left: 50%;z-index: 0;}#sk-container-id-1 div.sk-serial {display: flex;flex-direction: column;align-items: center;background-color: white;padding-right: 0.2em;padding-left: 0.2em;position: relative;}#sk-container-id-1 div.sk-item {position: relative;z-index: 1;}#sk-container-id-1 div.sk-parallel {display: flex;align-items: stretch;justify-content: center;background-color: white;position: relative;}#sk-container-id-1 div.sk-item::before, #sk-container-id-1 div.sk-parallel-item::before {content: \"\";position: absolute;border-left: 1px solid gray;box-sizing: border-box;top: 0;bottom: 0;left: 50%;z-index: -1;}#sk-container-id-1 div.sk-parallel-item {display: flex;flex-direction: column;z-index: 1;position: relative;background-color: white;}#sk-container-id-1 div.sk-parallel-item:first-child::after {align-self: flex-end;width: 50%;}#sk-container-id-1 div.sk-parallel-item:last-child::after {align-self: flex-start;width: 50%;}#sk-container-id-1 div.sk-parallel-item:only-child::after {width: 0;}#sk-container-id-1 div.sk-dashed-wrapped {border: 1px dashed gray;margin: 0 0.4em 0.5em 0.4em;box-sizing: border-box;padding-bottom: 0.4em;background-color: white;}#sk-container-id-1 div.sk-label label {font-family: monospace;font-weight: bold;display: inline-block;line-height: 1.2em;}#sk-container-id-1 div.sk-label-container {text-align: center;}#sk-container-id-1 div.sk-container {/* jupyter's `normalize.less` sets `[hidden] { display: none; }` but bootstrap.min.css set `[hidden] { display: none !important; }` so we also need the `!important` here to be able to override the default hidden behavior on the sphinx rendered scikit-learn.org. See: https://github.com/scikit-learn/scikit-learn/issues/21755 */display: inline-block !important;position: relative;}#sk-container-id-1 div.sk-text-repr-fallback {display: none;}</style><div id=\"sk-container-id-1\" class=\"sk-top-container\"><div class=\"sk-text-repr-fallback\"><pre>LinearRegression()</pre><b>In a Jupyter environment, please rerun this cell to show the HTML representation or trust the notebook. <br />On GitHub, the HTML representation is unable to render, please try loading this page with nbviewer.org.</b></div><div class=\"sk-container\" hidden><div class=\"sk-item\"><div class=\"sk-estimator sk-toggleable\"><input class=\"sk-toggleable__control sk-hidden--visually\" id=\"sk-estimator-id-1\" type=\"checkbox\" checked><label for=\"sk-estimator-id-1\" class=\"sk-toggleable__label sk-toggleable__label-arrow\">LinearRegression</label><div class=\"sk-toggleable__content\"><pre>LinearRegression()</pre></div></div></div></div></div>"
      ],
      "text/plain": [
       "LinearRegression()"
      ]
     },
     "execution_count": 7,
     "metadata": {},
     "output_type": "execute_result"
    }
   ],
   "source": [
    "ols_model = LinearRegression()\n",
    "\n",
    "ols_model.fit(train[['sq_ft']], train[['tax_value']])"
   ]
  },
  {
   "cell_type": "code",
   "execution_count": 10,
   "id": "163664b3",
   "metadata": {},
   "outputs": [
    {
     "data": {
      "text/html": [
       "<div>\n",
       "<style scoped>\n",
       "    .dataframe tbody tr th:only-of-type {\n",
       "        vertical-align: middle;\n",
       "    }\n",
       "\n",
       "    .dataframe tbody tr th {\n",
       "        vertical-align: top;\n",
       "    }\n",
       "\n",
       "    .dataframe thead th {\n",
       "        text-align: right;\n",
       "    }\n",
       "</style>\n",
       "<table border=\"1\" class=\"dataframe\">\n",
       "  <thead>\n",
       "    <tr style=\"text-align: right;\">\n",
       "      <th></th>\n",
       "      <th>sq_ft</th>\n",
       "      <th>tax_value</th>\n",
       "      <th>yhat</th>\n",
       "    </tr>\n",
       "  </thead>\n",
       "  <tbody>\n",
       "    <tr>\n",
       "      <th>553891</th>\n",
       "      <td>0.320984</td>\n",
       "      <td>318856.0</td>\n",
       "      <td>721660.687491</td>\n",
       "    </tr>\n",
       "    <tr>\n",
       "      <th>863544</th>\n",
       "      <td>0.198704</td>\n",
       "      <td>279877.0</td>\n",
       "      <td>438029.322610</td>\n",
       "    </tr>\n",
       "    <tr>\n",
       "      <th>682472</th>\n",
       "      <td>0.142018</td>\n",
       "      <td>92106.0</td>\n",
       "      <td>306544.583923</td>\n",
       "    </tr>\n",
       "    <tr>\n",
       "      <th>865965</th>\n",
       "      <td>0.184735</td>\n",
       "      <td>111459.0</td>\n",
       "      <td>405627.726291</td>\n",
       "    </tr>\n",
       "    <tr>\n",
       "      <th>718183</th>\n",
       "      <td>0.125822</td>\n",
       "      <td>164846.0</td>\n",
       "      <td>268977.515727</td>\n",
       "    </tr>\n",
       "  </tbody>\n",
       "</table>\n",
       "</div>"
      ],
      "text/plain": [
       "           sq_ft  tax_value           yhat\n",
       "553891  0.320984   318856.0  721660.687491\n",
       "863544  0.198704   279877.0  438029.322610\n",
       "682472  0.142018    92106.0  306544.583923\n",
       "865965  0.184735   111459.0  405627.726291\n",
       "718183  0.125822   164846.0  268977.515727"
      ]
     },
     "execution_count": 10,
     "metadata": {},
     "output_type": "execute_result"
    }
   ],
   "source": [
    "preds['yhat'] = ols_model.predict(train[['sq_ft']])\n",
    "preds.head()"
   ]
  },
  {
   "cell_type": "markdown",
   "id": "3474f325",
   "metadata": {},
   "source": [
    "## 3. Plot the residuals for the linear regression model that you made.\n",
    "\n"
   ]
  },
  {
   "cell_type": "code",
   "execution_count": 11,
   "id": "cce267c1",
   "metadata": {},
   "outputs": [
    {
     "data": {
      "text/html": [
       "<div>\n",
       "<style scoped>\n",
       "    .dataframe tbody tr th:only-of-type {\n",
       "        vertical-align: middle;\n",
       "    }\n",
       "\n",
       "    .dataframe tbody tr th {\n",
       "        vertical-align: top;\n",
       "    }\n",
       "\n",
       "    .dataframe thead th {\n",
       "        text-align: right;\n",
       "    }\n",
       "</style>\n",
       "<table border=\"1\" class=\"dataframe\">\n",
       "  <thead>\n",
       "    <tr style=\"text-align: right;\">\n",
       "      <th></th>\n",
       "      <th>sq_ft</th>\n",
       "      <th>tax_value</th>\n",
       "      <th>yhat</th>\n",
       "      <th>residuals</th>\n",
       "    </tr>\n",
       "  </thead>\n",
       "  <tbody>\n",
       "    <tr>\n",
       "      <th>553891</th>\n",
       "      <td>0.320984</td>\n",
       "      <td>318856.0</td>\n",
       "      <td>721660.687491</td>\n",
       "      <td>402804.687491</td>\n",
       "    </tr>\n",
       "    <tr>\n",
       "      <th>863544</th>\n",
       "      <td>0.198704</td>\n",
       "      <td>279877.0</td>\n",
       "      <td>438029.322610</td>\n",
       "      <td>158152.322610</td>\n",
       "    </tr>\n",
       "    <tr>\n",
       "      <th>682472</th>\n",
       "      <td>0.142018</td>\n",
       "      <td>92106.0</td>\n",
       "      <td>306544.583923</td>\n",
       "      <td>214438.583923</td>\n",
       "    </tr>\n",
       "    <tr>\n",
       "      <th>865965</th>\n",
       "      <td>0.184735</td>\n",
       "      <td>111459.0</td>\n",
       "      <td>405627.726291</td>\n",
       "      <td>294168.726291</td>\n",
       "    </tr>\n",
       "    <tr>\n",
       "      <th>718183</th>\n",
       "      <td>0.125822</td>\n",
       "      <td>164846.0</td>\n",
       "      <td>268977.515727</td>\n",
       "      <td>104131.515727</td>\n",
       "    </tr>\n",
       "  </tbody>\n",
       "</table>\n",
       "</div>"
      ],
      "text/plain": [
       "           sq_ft  tax_value           yhat      residuals\n",
       "553891  0.320984   318856.0  721660.687491  402804.687491\n",
       "863544  0.198704   279877.0  438029.322610  158152.322610\n",
       "682472  0.142018    92106.0  306544.583923  214438.583923\n",
       "865965  0.184735   111459.0  405627.726291  294168.726291\n",
       "718183  0.125822   164846.0  268977.515727  104131.515727"
      ]
     },
     "execution_count": 11,
     "metadata": {},
     "output_type": "execute_result"
    }
   ],
   "source": [
    "preds['residuals'] = preds['yhat'] - preds['tax_value']\n",
    "preds.head()"
   ]
  },
  {
   "cell_type": "code",
   "execution_count": 14,
   "id": "fce64d28",
   "metadata": {},
   "outputs": [
    {
     "data": {
      "image/png": "[encoded data removed]",
      "text/plain": [
       "<Figure size 640x480 with 1 Axes>"
      ]
     },
     "metadata": {},
     "output_type": "display_data"
    }
   ],
   "source": [
    "sns.scatterplot(x='tax_value', y='residuals', data=preds)\n",
    "plt.xlabel('Actual Home Value')\n",
    "plt.ylabel('Residual Value')\n",
    "plt.title('Residuals vs Actual Value')\n",
    "plt.show()"
   ]
  },
  {
   "cell_type": "markdown",
   "id": "add90b03",
   "metadata": {},
   "source": [
    "## 4. Calculate the sum of squared errors, explained sum of squares, total sum of squares, mean squared error, and root mean squared error for your model.\n",
    "\n",
    "## 5.Calculate the sum of squared errors, mean squared error, and root mean squared error for the baseline model\n"
   ]
  },
  {
   "cell_type": "code",
   "execution_count": 15,
   "id": "c83b5dcd",
   "metadata": {},
   "outputs": [
    {
     "data": {
      "text/plain": [
       "9.359294805506536e+16"
      ]
     },
     "execution_count": 15,
     "metadata": {},
     "output_type": "execute_result"
    }
   ],
   "source": [
    "sse = (preds.residuals **2).sum()\n",
    "sse"
   ]
  },
  {
   "cell_type": "code",
   "execution_count": 16,
   "id": "e7d21270",
   "metadata": {},
   "outputs": [
    {
     "data": {
      "text/plain": [
       "4.930065107360015e+16"
      ]
     },
     "execution_count": 16,
     "metadata": {},
     "output_type": "execute_result"
    }
   ],
   "source": [
    "ess = ((preds.yhat - preds.tax_value.mean())**2).sum()\n",
    "ess"
   ]
  },
  {
   "cell_type": "code",
   "execution_count": 17,
   "id": "448dd654",
   "metadata": {},
   "outputs": [
    {
     "data": {
      "text/plain": [
       "1.428935991286655e+17"
      ]
     },
     "execution_count": 17,
     "metadata": {},
     "output_type": "execute_result"
    }
   ],
   "source": [
    "tss = ess + sse\n",
    "tss"
   ]
  },
  {
   "cell_type": "code",
   "execution_count": 18,
   "id": "30d9e800",
   "metadata": {},
   "outputs": [
    {
     "data": {
      "text/plain": [
       "64297872758.29485"
      ]
     },
     "execution_count": 18,
     "metadata": {},
     "output_type": "execute_result"
    }
   ],
   "source": [
    "mse = mean_squared_error(preds.tax_value, preds.yhat)\n",
    "mse"
   ]
  },
  {
   "cell_type": "code",
   "execution_count": 38,
   "id": "1906c739",
   "metadata": {},
   "outputs": [
    {
     "data": {
      "text/plain": [
       "253570.25211624263"
      ]
     },
     "execution_count": 38,
     "metadata": {},
     "output_type": "execute_result"
    }
   ],
   "source": [
    "rmse = sqrt(mse)\n",
    "rmse"
   ]
  },
  {
   "cell_type": "code",
   "execution_count": 25,
   "id": "d210ad57",
   "metadata": {},
   "outputs": [
    {
     "data": {
      "text/plain": [
       "98167165856.76471"
      ]
     },
     "execution_count": 25,
     "metadata": {},
     "output_type": "execute_result"
    }
   ],
   "source": [
    "mse_baseline = mean_squared_error(preds.tax_value, preds.baseline)\n",
    "mse_baseline"
   ]
  },
  {
   "cell_type": "code",
   "execution_count": 27,
   "id": "39b10f8d",
   "metadata": {},
   "outputs": [
    {
     "data": {
      "text/html": [
       "<div>\n",
       "<style scoped>\n",
       "    .dataframe tbody tr th:only-of-type {\n",
       "        vertical-align: middle;\n",
       "    }\n",
       "\n",
       "    .dataframe tbody tr th {\n",
       "        vertical-align: top;\n",
       "    }\n",
       "\n",
       "    .dataframe thead th {\n",
       "        text-align: right;\n",
       "    }\n",
       "</style>\n",
       "<table border=\"1\" class=\"dataframe\">\n",
       "  <thead>\n",
       "    <tr style=\"text-align: right;\">\n",
       "      <th></th>\n",
       "      <th>sq_ft</th>\n",
       "      <th>tax_value</th>\n",
       "      <th>yhat</th>\n",
       "      <th>residuals</th>\n",
       "      <th>baseline</th>\n",
       "      <th>mse_baseline</th>\n",
       "    </tr>\n",
       "  </thead>\n",
       "  <tbody>\n",
       "    <tr>\n",
       "      <th>553891</th>\n",
       "      <td>0.320984</td>\n",
       "      <td>318856.0</td>\n",
       "      <td>7.216607e+05</td>\n",
       "      <td>402804.687491</td>\n",
       "      <td>399191.6</td>\n",
       "      <td>9.816717e+10</td>\n",
       "    </tr>\n",
       "    <tr>\n",
       "      <th>863544</th>\n",
       "      <td>0.198704</td>\n",
       "      <td>279877.0</td>\n",
       "      <td>4.380293e+05</td>\n",
       "      <td>158152.322610</td>\n",
       "      <td>399191.6</td>\n",
       "      <td>9.816717e+10</td>\n",
       "    </tr>\n",
       "    <tr>\n",
       "      <th>682472</th>\n",
       "      <td>0.142018</td>\n",
       "      <td>92106.0</td>\n",
       "      <td>3.065446e+05</td>\n",
       "      <td>214438.583923</td>\n",
       "      <td>399191.6</td>\n",
       "      <td>9.816717e+10</td>\n",
       "    </tr>\n",
       "    <tr>\n",
       "      <th>865965</th>\n",
       "      <td>0.184735</td>\n",
       "      <td>111459.0</td>\n",
       "      <td>4.056277e+05</td>\n",
       "      <td>294168.726291</td>\n",
       "      <td>399191.6</td>\n",
       "      <td>9.816717e+10</td>\n",
       "    </tr>\n",
       "    <tr>\n",
       "      <th>718183</th>\n",
       "      <td>0.125822</td>\n",
       "      <td>164846.0</td>\n",
       "      <td>2.689775e+05</td>\n",
       "      <td>104131.515727</td>\n",
       "      <td>399191.6</td>\n",
       "      <td>9.816717e+10</td>\n",
       "    </tr>\n",
       "    <tr>\n",
       "      <th>...</th>\n",
       "      <td>...</td>\n",
       "      <td>...</td>\n",
       "      <td>...</td>\n",
       "      <td>...</td>\n",
       "      <td>...</td>\n",
       "      <td>...</td>\n",
       "    </tr>\n",
       "    <tr>\n",
       "      <th>549220</th>\n",
       "      <td>0.150319</td>\n",
       "      <td>189635.0</td>\n",
       "      <td>3.257977e+05</td>\n",
       "      <td>136162.706374</td>\n",
       "      <td>399191.6</td>\n",
       "      <td>9.816717e+10</td>\n",
       "    </tr>\n",
       "    <tr>\n",
       "      <th>162752</th>\n",
       "      <td>0.329790</td>\n",
       "      <td>1345806.0</td>\n",
       "      <td>7.420878e+05</td>\n",
       "      <td>-603718.219178</td>\n",
       "      <td>399191.6</td>\n",
       "      <td>9.816717e+10</td>\n",
       "    </tr>\n",
       "    <tr>\n",
       "      <th>1012524</th>\n",
       "      <td>0.157506</td>\n",
       "      <td>231164.0</td>\n",
       "      <td>3.424681e+05</td>\n",
       "      <td>111304.092886</td>\n",
       "      <td>399191.6</td>\n",
       "      <td>9.816717e+10</td>\n",
       "    </tr>\n",
       "    <tr>\n",
       "      <th>1300612</th>\n",
       "      <td>0.267132</td>\n",
       "      <td>421439.0</td>\n",
       "      <td>5.967502e+05</td>\n",
       "      <td>175311.185739</td>\n",
       "      <td>399191.6</td>\n",
       "      <td>9.816717e+10</td>\n",
       "    </tr>\n",
       "    <tr>\n",
       "      <th>1944437</th>\n",
       "      <td>0.466039</td>\n",
       "      <td>434499.0</td>\n",
       "      <td>1.058121e+06</td>\n",
       "      <td>623621.742022</td>\n",
       "      <td>399191.6</td>\n",
       "      <td>9.816717e+10</td>\n",
       "    </tr>\n",
       "  </tbody>\n",
       "</table>\n",
       "<p>1455615 rows × 6 columns</p>\n",
       "</div>"
      ],
      "text/plain": [
       "            sq_ft  tax_value          yhat      residuals  baseline  \\\n",
       "553891   0.320984   318856.0  7.216607e+05  402804.687491  399191.6   \n",
       "863544   0.198704   279877.0  4.380293e+05  158152.322610  399191.6   \n",
       "682472   0.142018    92106.0  3.065446e+05  214438.583923  399191.6   \n",
       "865965   0.184735   111459.0  4.056277e+05  294168.726291  399191.6   \n",
       "718183   0.125822   164846.0  2.689775e+05  104131.515727  399191.6   \n",
       "...           ...        ...           ...            ...       ...   \n",
       "549220   0.150319   189635.0  3.257977e+05  136162.706374  399191.6   \n",
       "162752   0.329790  1345806.0  7.420878e+05 -603718.219178  399191.6   \n",
       "1012524  0.157506   231164.0  3.424681e+05  111304.092886  399191.6   \n",
       "1300612  0.267132   421439.0  5.967502e+05  175311.185739  399191.6   \n",
       "1944437  0.466039   434499.0  1.058121e+06  623621.742022  399191.6   \n",
       "\n",
       "         mse_baseline  \n",
       "553891   9.816717e+10  \n",
       "863544   9.816717e+10  \n",
       "682472   9.816717e+10  \n",
       "865965   9.816717e+10  \n",
       "718183   9.816717e+10  \n",
       "...               ...  \n",
       "549220   9.816717e+10  \n",
       "162752   9.816717e+10  \n",
       "1012524  9.816717e+10  \n",
       "1300612  9.816717e+10  \n",
       "1944437  9.816717e+10  \n",
       "\n",
       "[1455615 rows x 6 columns]"
      ]
     },
     "execution_count": 27,
     "metadata": {},
     "output_type": "execute_result"
    }
   ],
   "source": [
    "preds['mse_baseline'] = mse_baseline\n",
    "preds"
   ]
  },
  {
   "cell_type": "code",
   "execution_count": 28,
   "id": "086192a9",
   "metadata": {},
   "outputs": [
    {
     "data": {
      "text/plain": [
       "1.4289359912859456e+17"
      ]
     },
     "execution_count": 28,
     "metadata": {},
     "output_type": "execute_result"
    }
   ],
   "source": [
    "sse_baseline = mse_baseline * len(preds)\n",
    "sse_baseline"
   ]
  },
  {
   "cell_type": "code",
   "execution_count": 29,
   "id": "7a4b4f29",
   "metadata": {},
   "outputs": [],
   "source": [
    "preds['sse_baseline'] = sse_baseline"
   ]
  },
  {
   "cell_type": "code",
   "execution_count": 30,
   "id": "dc3ede65",
   "metadata": {},
   "outputs": [
    {
     "data": {
      "text/plain": [
       "313316.3989592066"
      ]
     },
     "execution_count": 30,
     "metadata": {},
     "output_type": "execute_result"
    }
   ],
   "source": [
    "rmse_baseline = mse_baseline**.5\n",
    "rmse_baseline"
   ]
  },
  {
   "cell_type": "code",
   "execution_count": 31,
   "id": "066129bf",
   "metadata": {},
   "outputs": [],
   "source": [
    "preds['rmse_baseline'] = rmse_baseline"
   ]
  },
  {
   "cell_type": "code",
   "execution_count": 32,
   "id": "7e1445c9",
   "metadata": {},
   "outputs": [
    {
     "data": {
      "text/html": [
       "<div>\n",
       "<style scoped>\n",
       "    .dataframe tbody tr th:only-of-type {\n",
       "        vertical-align: middle;\n",
       "    }\n",
       "\n",
       "    .dataframe tbody tr th {\n",
       "        vertical-align: top;\n",
       "    }\n",
       "\n",
       "    .dataframe thead th {\n",
       "        text-align: right;\n",
       "    }\n",
       "</style>\n",
       "<table border=\"1\" class=\"dataframe\">\n",
       "  <thead>\n",
       "    <tr style=\"text-align: right;\">\n",
       "      <th></th>\n",
       "      <th>sq_ft</th>\n",
       "      <th>tax_value</th>\n",
       "      <th>yhat</th>\n",
       "      <th>residuals</th>\n",
       "      <th>baseline</th>\n",
       "      <th>mse_baseline</th>\n",
       "      <th>sse_baseline</th>\n",
       "      <th>rmse_baseline</th>\n",
       "    </tr>\n",
       "  </thead>\n",
       "  <tbody>\n",
       "    <tr>\n",
       "      <th>553891</th>\n",
       "      <td>0.320984</td>\n",
       "      <td>318856.0</td>\n",
       "      <td>721660.687491</td>\n",
       "      <td>402804.687491</td>\n",
       "      <td>399191.6</td>\n",
       "      <td>9.816717e+10</td>\n",
       "      <td>1.428936e+17</td>\n",
       "      <td>313316.398959</td>\n",
       "    </tr>\n",
       "    <tr>\n",
       "      <th>863544</th>\n",
       "      <td>0.198704</td>\n",
       "      <td>279877.0</td>\n",
       "      <td>438029.322610</td>\n",
       "      <td>158152.322610</td>\n",
       "      <td>399191.6</td>\n",
       "      <td>9.816717e+10</td>\n",
       "      <td>1.428936e+17</td>\n",
       "      <td>313316.398959</td>\n",
       "    </tr>\n",
       "    <tr>\n",
       "      <th>682472</th>\n",
       "      <td>0.142018</td>\n",
       "      <td>92106.0</td>\n",
       "      <td>306544.583923</td>\n",
       "      <td>214438.583923</td>\n",
       "      <td>399191.6</td>\n",
       "      <td>9.816717e+10</td>\n",
       "      <td>1.428936e+17</td>\n",
       "      <td>313316.398959</td>\n",
       "    </tr>\n",
       "    <tr>\n",
       "      <th>865965</th>\n",
       "      <td>0.184735</td>\n",
       "      <td>111459.0</td>\n",
       "      <td>405627.726291</td>\n",
       "      <td>294168.726291</td>\n",
       "      <td>399191.6</td>\n",
       "      <td>9.816717e+10</td>\n",
       "      <td>1.428936e+17</td>\n",
       "      <td>313316.398959</td>\n",
       "    </tr>\n",
       "    <tr>\n",
       "      <th>718183</th>\n",
       "      <td>0.125822</td>\n",
       "      <td>164846.0</td>\n",
       "      <td>268977.515727</td>\n",
       "      <td>104131.515727</td>\n",
       "      <td>399191.6</td>\n",
       "      <td>9.816717e+10</td>\n",
       "      <td>1.428936e+17</td>\n",
       "      <td>313316.398959</td>\n",
       "    </tr>\n",
       "  </tbody>\n",
       "</table>\n",
       "</div>"
      ],
      "text/plain": [
       "           sq_ft  tax_value           yhat      residuals  baseline  \\\n",
       "553891  0.320984   318856.0  721660.687491  402804.687491  399191.6   \n",
       "863544  0.198704   279877.0  438029.322610  158152.322610  399191.6   \n",
       "682472  0.142018    92106.0  306544.583923  214438.583923  399191.6   \n",
       "865965  0.184735   111459.0  405627.726291  294168.726291  399191.6   \n",
       "718183  0.125822   164846.0  268977.515727  104131.515727  399191.6   \n",
       "\n",
       "        mse_baseline  sse_baseline  rmse_baseline  \n",
       "553891  9.816717e+10  1.428936e+17  313316.398959  \n",
       "863544  9.816717e+10  1.428936e+17  313316.398959  \n",
       "682472  9.816717e+10  1.428936e+17  313316.398959  \n",
       "865965  9.816717e+10  1.428936e+17  313316.398959  \n",
       "718183  9.816717e+10  1.428936e+17  313316.398959  "
      ]
     },
     "execution_count": 32,
     "metadata": {},
     "output_type": "execute_result"
    }
   ],
   "source": [
    "preds.head()"
   ]
  },
  {
   "cell_type": "code",
   "execution_count": 15,
   "id": "325be987",
   "metadata": {},
   "outputs": [
    {
     "data": {
      "text/html": [
       "<div>\n",
       "<style scoped>\n",
       "    .dataframe tbody tr th:only-of-type {\n",
       "        vertical-align: middle;\n",
       "    }\n",
       "\n",
       "    .dataframe tbody tr th {\n",
       "        vertical-align: top;\n",
       "    }\n",
       "\n",
       "    .dataframe thead th {\n",
       "        text-align: right;\n",
       "    }\n",
       "</style>\n",
       "<table border=\"1\" class=\"dataframe\">\n",
       "  <thead>\n",
       "    <tr style=\"text-align: right;\">\n",
       "      <th></th>\n",
       "      <th>sq_ft</th>\n",
       "      <th>tax_value</th>\n",
       "      <th>baseline_preds</th>\n",
       "      <th>yhat</th>\n",
       "      <th>baseline_res</th>\n",
       "      <th>yhat_res</th>\n",
       "      <th>baseline_res_squared</th>\n",
       "      <th>yhat_res_sqaured</th>\n",
       "    </tr>\n",
       "  </thead>\n",
       "  <tbody>\n",
       "    <tr>\n",
       "      <th>553891</th>\n",
       "      <td>0.320984</td>\n",
       "      <td>318856.0</td>\n",
       "      <td>399191.6</td>\n",
       "      <td>721660.687491</td>\n",
       "      <td>80335.6</td>\n",
       "      <td>402804.687491</td>\n",
       "      <td>6.453809e+09</td>\n",
       "      <td>1.622516e+11</td>\n",
       "    </tr>\n",
       "    <tr>\n",
       "      <th>863544</th>\n",
       "      <td>0.198704</td>\n",
       "      <td>279877.0</td>\n",
       "      <td>399191.6</td>\n",
       "      <td>438029.322610</td>\n",
       "      <td>119314.6</td>\n",
       "      <td>158152.322610</td>\n",
       "      <td>1.423597e+10</td>\n",
       "      <td>2.501216e+10</td>\n",
       "    </tr>\n",
       "    <tr>\n",
       "      <th>682472</th>\n",
       "      <td>0.142018</td>\n",
       "      <td>92106.0</td>\n",
       "      <td>399191.6</td>\n",
       "      <td>306544.583923</td>\n",
       "      <td>307085.6</td>\n",
       "      <td>214438.583923</td>\n",
       "      <td>9.430157e+10</td>\n",
       "      <td>4.598391e+10</td>\n",
       "    </tr>\n",
       "    <tr>\n",
       "      <th>865965</th>\n",
       "      <td>0.184735</td>\n",
       "      <td>111459.0</td>\n",
       "      <td>399191.6</td>\n",
       "      <td>405627.726291</td>\n",
       "      <td>287732.6</td>\n",
       "      <td>294168.726291</td>\n",
       "      <td>8.279005e+10</td>\n",
       "      <td>8.653524e+10</td>\n",
       "    </tr>\n",
       "    <tr>\n",
       "      <th>718183</th>\n",
       "      <td>0.125822</td>\n",
       "      <td>164846.0</td>\n",
       "      <td>399191.6</td>\n",
       "      <td>268977.515727</td>\n",
       "      <td>234345.6</td>\n",
       "      <td>104131.515727</td>\n",
       "      <td>5.491786e+10</td>\n",
       "      <td>1.084337e+10</td>\n",
       "    </tr>\n",
       "  </tbody>\n",
       "</table>\n",
       "</div>"
      ],
      "text/plain": [
       "           sq_ft  tax_value  baseline_preds           yhat  baseline_res  \\\n",
       "553891  0.320984   318856.0        399191.6  721660.687491       80335.6   \n",
       "863544  0.198704   279877.0        399191.6  438029.322610      119314.6   \n",
       "682472  0.142018    92106.0        399191.6  306544.583923      307085.6   \n",
       "865965  0.184735   111459.0        399191.6  405627.726291      287732.6   \n",
       "718183  0.125822   164846.0        399191.6  268977.515727      234345.6   \n",
       "\n",
       "             yhat_res  baseline_res_squared  yhat_res_sqaured  \n",
       "553891  402804.687491          6.453809e+09      1.622516e+11  \n",
       "863544  158152.322610          1.423597e+10      2.501216e+10  \n",
       "682472  214438.583923          9.430157e+10      4.598391e+10  \n",
       "865965  294168.726291          8.279005e+10      8.653524e+10  \n",
       "718183  104131.515727          5.491786e+10      1.084337e+10  "
      ]
     },
     "execution_count": 15,
     "metadata": {},
     "output_type": "execute_result"
    }
   ],
   "source": [
    "preds['baseline_res_squared'] = preds['baseline_res'] ** 2\n",
    "preds['yhat_res_sqaured'] = preds['yhat_res'] ** 2\n",
    "preds.head()"
   ]
  },
  {
   "cell_type": "code",
   "execution_count": 16,
   "id": "8708edae",
   "metadata": {},
   "outputs": [
    {
     "data": {
      "text/plain": [
       "(1.4289359912859456e+17, 9.359294805506536e+16)"
      ]
     },
     "execution_count": 16,
     "metadata": {},
     "output_type": "execute_result"
    }
   ],
   "source": [
    "sse_baseline = preds['baseline_res_squared'].sum()\n",
    "sse_yhat = preds['yhat_res_sqaured'].sum()\n",
    "sse_baseline, sse_yhat"
   ]
  },
  {
   "cell_type": "code",
   "execution_count": 19,
   "id": "5cffb5f8",
   "metadata": {},
   "outputs": [
    {
     "data": {
      "text/plain": [
       "64297872758.29485"
      ]
     },
     "execution_count": 19,
     "metadata": {},
     "output_type": "execute_result"
    }
   ],
   "source": [
    "mean_squared_error(preds['tax_value'], preds['yhat'])"
   ]
  },
  {
   "cell_type": "code",
   "execution_count": 20,
   "id": "40694d1b",
   "metadata": {},
   "outputs": [
    {
     "data": {
      "text/plain": [
       "253570.25211624263"
      ]
     },
     "execution_count": 20,
     "metadata": {},
     "output_type": "execute_result"
    }
   ],
   "source": [
    "mean_squared_error(preds['tax_value'], preds['yhat'], squared = False)"
   ]
  },
  {
   "cell_type": "code",
   "execution_count": 19,
   "id": "9836249b",
   "metadata": {},
   "outputs": [
    {
     "data": {
      "text/plain": [
       "4.930065107360021e+16"
      ]
     },
     "execution_count": 19,
     "metadata": {},
     "output_type": "execute_result"
    }
   ],
   "source": [
    "preds['yhat_mean_res'] = preds['yhat'] - preds['baseline_preds']\n",
    "preds['yhat_mean_res_squared'] = preds['yhat_mean_res'] ** 2\n",
    "\n",
    "ess_baseline = 0\n",
    "ess_yhat = preds['yhat_mean_res_squared'].sum()\n",
    "ess_yhat"
   ]
  },
  {
   "cell_type": "code",
   "execution_count": 20,
   "id": "3fa5d8dc",
   "metadata": {},
   "outputs": [
    {
     "data": {
      "text/html": [
       "<div>\n",
       "<style scoped>\n",
       "    .dataframe tbody tr th:only-of-type {\n",
       "        vertical-align: middle;\n",
       "    }\n",
       "\n",
       "    .dataframe tbody tr th {\n",
       "        vertical-align: top;\n",
       "    }\n",
       "\n",
       "    .dataframe thead th {\n",
       "        text-align: right;\n",
       "    }\n",
       "</style>\n",
       "<table border=\"1\" class=\"dataframe\">\n",
       "  <thead>\n",
       "    <tr style=\"text-align: right;\">\n",
       "      <th></th>\n",
       "      <th>sq_ft</th>\n",
       "      <th>tax_value</th>\n",
       "      <th>baseline_preds</th>\n",
       "      <th>yhat</th>\n",
       "      <th>baseline_res</th>\n",
       "      <th>yhat_res</th>\n",
       "      <th>baseline_res_squared</th>\n",
       "      <th>yhat_res_sqaured</th>\n",
       "      <th>yhat_mean_res</th>\n",
       "      <th>yhat_mean_res_squared</th>\n",
       "    </tr>\n",
       "  </thead>\n",
       "  <tbody>\n",
       "    <tr>\n",
       "      <th>553891</th>\n",
       "      <td>0.320984</td>\n",
       "      <td>318856.0</td>\n",
       "      <td>399191.6</td>\n",
       "      <td>721660.687491</td>\n",
       "      <td>80335.6</td>\n",
       "      <td>402804.687491</td>\n",
       "      <td>6.453809e+09</td>\n",
       "      <td>1.622516e+11</td>\n",
       "      <td>322469.087491</td>\n",
       "      <td>1.039863e+11</td>\n",
       "    </tr>\n",
       "    <tr>\n",
       "      <th>863544</th>\n",
       "      <td>0.198704</td>\n",
       "      <td>279877.0</td>\n",
       "      <td>399191.6</td>\n",
       "      <td>438029.322610</td>\n",
       "      <td>119314.6</td>\n",
       "      <td>158152.322610</td>\n",
       "      <td>1.423597e+10</td>\n",
       "      <td>2.501216e+10</td>\n",
       "      <td>38837.722610</td>\n",
       "      <td>1.508369e+09</td>\n",
       "    </tr>\n",
       "    <tr>\n",
       "      <th>682472</th>\n",
       "      <td>0.142018</td>\n",
       "      <td>92106.0</td>\n",
       "      <td>399191.6</td>\n",
       "      <td>306544.583923</td>\n",
       "      <td>307085.6</td>\n",
       "      <td>214438.583923</td>\n",
       "      <td>9.430157e+10</td>\n",
       "      <td>4.598391e+10</td>\n",
       "      <td>-92647.016077</td>\n",
       "      <td>8.583470e+09</td>\n",
       "    </tr>\n",
       "    <tr>\n",
       "      <th>865965</th>\n",
       "      <td>0.184735</td>\n",
       "      <td>111459.0</td>\n",
       "      <td>399191.6</td>\n",
       "      <td>405627.726291</td>\n",
       "      <td>287732.6</td>\n",
       "      <td>294168.726291</td>\n",
       "      <td>8.279005e+10</td>\n",
       "      <td>8.653524e+10</td>\n",
       "      <td>6436.126291</td>\n",
       "      <td>4.142372e+07</td>\n",
       "    </tr>\n",
       "    <tr>\n",
       "      <th>718183</th>\n",
       "      <td>0.125822</td>\n",
       "      <td>164846.0</td>\n",
       "      <td>399191.6</td>\n",
       "      <td>268977.515727</td>\n",
       "      <td>234345.6</td>\n",
       "      <td>104131.515727</td>\n",
       "      <td>5.491786e+10</td>\n",
       "      <td>1.084337e+10</td>\n",
       "      <td>-130214.084273</td>\n",
       "      <td>1.695571e+10</td>\n",
       "    </tr>\n",
       "  </tbody>\n",
       "</table>\n",
       "</div>"
      ],
      "text/plain": [
       "           sq_ft  tax_value  baseline_preds           yhat  baseline_res  \\\n",
       "553891  0.320984   318856.0        399191.6  721660.687491       80335.6   \n",
       "863544  0.198704   279877.0        399191.6  438029.322610      119314.6   \n",
       "682472  0.142018    92106.0        399191.6  306544.583923      307085.6   \n",
       "865965  0.184735   111459.0        399191.6  405627.726291      287732.6   \n",
       "718183  0.125822   164846.0        399191.6  268977.515727      234345.6   \n",
       "\n",
       "             yhat_res  baseline_res_squared  yhat_res_sqaured  yhat_mean_res  \\\n",
       "553891  402804.687491          6.453809e+09      1.622516e+11  322469.087491   \n",
       "863544  158152.322610          1.423597e+10      2.501216e+10   38837.722610   \n",
       "682472  214438.583923          9.430157e+10      4.598391e+10  -92647.016077   \n",
       "865965  294168.726291          8.279005e+10      8.653524e+10    6436.126291   \n",
       "718183  104131.515727          5.491786e+10      1.084337e+10 -130214.084273   \n",
       "\n",
       "        yhat_mean_res_squared  \n",
       "553891           1.039863e+11  \n",
       "863544           1.508369e+09  \n",
       "682472           8.583470e+09  \n",
       "865965           4.142372e+07  \n",
       "718183           1.695571e+10  "
      ]
     },
     "execution_count": 20,
     "metadata": {},
     "output_type": "execute_result"
    }
   ],
   "source": [
    "preds.head()"
   ]
  },
  {
   "cell_type": "code",
   "execution_count": 21,
   "id": "5780613f",
   "metadata": {},
   "outputs": [
    {
     "data": {
      "text/plain": [
       "(1.4289359912859456e+17, 1.4289359912866557e+17)"
      ]
     },
     "execution_count": 21,
     "metadata": {},
     "output_type": "execute_result"
    }
   ],
   "source": [
    "tss_baseline = sse_baseline + ess_baseline\n",
    "tss_yhat = sse_yhat + ess_yhat\n",
    "tss_baseline, tss_yhat"
   ]
  },
  {
   "cell_type": "code",
   "execution_count": 22,
   "id": "1d47857a",
   "metadata": {},
   "outputs": [
    {
     "data": {
      "text/plain": [
       "0.0"
      ]
     },
     "execution_count": 22,
     "metadata": {},
     "output_type": "execute_result"
    }
   ],
   "source": [
    "ess_baseline / tss_baseline"
   ]
  },
  {
   "cell_type": "code",
   "execution_count": null,
   "id": "cfce3f88",
   "metadata": {
    "scrolled": true
   },
   "outputs": [],
   "source": [
    "mse_baseline = sse_baseline/len(preds)\n",
    "mse_yhat = sse_yhat/len(preds)\n",
    "mse_baseline, mse_yhat"
   ]
  },
  {
   "cell_type": "code",
   "execution_count": 24,
   "id": "065a0f08",
   "metadata": {},
   "outputs": [
    {
     "data": {
      "text/plain": [
       "(313316.3989592066, 253570.25211624263)"
      ]
     },
     "execution_count": 24,
     "metadata": {},
     "output_type": "execute_result"
    }
   ],
   "source": [
    "rmse_baseline = sqrt(mse_baseline)\n",
    "rmse_yhat = sqrt(mse_yhat)\n",
    "rmse_baseline, rmse_yhat"
   ]
  },
  {
   "cell_type": "markdown",
   "id": "0c2c715b",
   "metadata": {},
   "source": [
    "## 6. Write python code that compares the sum of squared errors for your model against the sum of squared errors for the baseline model and outputs whether or not your model performs better than the baseline model."
   ]
  },
  {
   "cell_type": "code",
   "execution_count": 34,
   "id": "822f2e4a",
   "metadata": {},
   "outputs": [
    {
     "name": "stdout",
     "output_type": "stream",
     "text": [
      "My OSL model performs better than baseline\n"
     ]
    }
   ],
   "source": [
    "if sse < sse_baseline:\n",
    "    print('My OSL model performs better than baseline')\n",
    "else:\n",
    "    print('My OSL model performs worse than baseline.')"
   ]
  },
  {
   "cell_type": "markdown",
   "id": "7fef5365",
   "metadata": {},
   "source": [
    "## 7. What is the amount of variance explained in your model?"
   ]
  },
  {
   "cell_type": "code",
   "execution_count": 35,
   "id": "173eea8d",
   "metadata": {},
   "outputs": [
    {
     "data": {
      "text/plain": [
       "0.3450165114058638"
      ]
     },
     "execution_count": 35,
     "metadata": {},
     "output_type": "execute_result"
    }
   ],
   "source": [
    "r2 = ess / tss\n",
    "r2"
   ]
  },
  {
   "cell_type": "code",
   "execution_count": 58,
   "id": "0f6784fc",
   "metadata": {},
   "outputs": [
    {
     "data": {
      "text/plain": [
       "0.34501651140586403"
      ]
     },
     "execution_count": 58,
     "metadata": {},
     "output_type": "execute_result"
    }
   ],
   "source": [
    "r2 = ess_yhat/tss_yhat\n",
    "r2"
   ]
  },
  {
   "cell_type": "code",
   "execution_count": 36,
   "id": "6c8aecab",
   "metadata": {},
   "outputs": [
    {
     "data": {
      "text/plain": [
       "0.34501651140553846"
      ]
     },
     "execution_count": 36,
     "metadata": {},
     "output_type": "execute_result"
    }
   ],
   "source": [
    "explained_variance_score(preds['tax_value'],preds['yhat'])"
   ]
  },
  {
   "cell_type": "markdown",
   "id": "4c87c128",
   "metadata": {},
   "source": [
    "## 8. Is your model better than the baseline model?"
   ]
  },
  {
   "cell_type": "code",
   "execution_count": 39,
   "id": "4fcade42",
   "metadata": {},
   "outputs": [
    {
     "data": {
      "text/plain": [
       "59746.146842963964"
      ]
     },
     "execution_count": 39,
     "metadata": {},
     "output_type": "execute_result"
    }
   ],
   "source": [
    "rmse_baseline - rmse\n"
   ]
  },
  {
   "cell_type": "code",
   "execution_count": 40,
   "id": "99d85300",
   "metadata": {},
   "outputs": [
    {
     "name": "stdout",
     "output_type": "stream",
     "text": [
      "The model rmse performs better the rmse_baseline\n"
     ]
    }
   ],
   "source": [
    "if rmse < rmse_baseline:\n",
    "    print(f'The model rmse performs better the rmse_baseline')\n",
    "else:\n",
    "    print(f'The model rmse performs worse than the rmse_baseline')"
   ]
  },
  {
   "cell_type": "markdown",
   "id": "53efa44f",
   "metadata": {},
   "source": [
    "## 9. Create a file named evaluate.py that contains the following functions.\n",
    "\n",
    " - plot_residuals(y, yhat): creates a residual plot\n",
    " \n",
    " \n",
    " - regression_errors(y, yhat): returns the following values:\n",
    "    - sum of squared errors (SSE)\n",
    "    - explained sum of squares (ESS)\n",
    "    - total sum of squares (TSS)\n",
    "    - mean squared error (MSE)\n",
    "    - root mean squared error (RMSE)\n",
    "\n",
    "\n",
    " - baseline_mean_errors(y): computes the SSE, MSE, and RMSE for the baseline model\n",
    " \n",
    " \n",
    " - better_than_baseline(y, yhat): returns true if your model performs better than the baseline, otherwise false"
   ]
  },
  {
   "cell_type": "code",
   "execution_count": 43,
   "id": "d9848583",
   "metadata": {},
   "outputs": [],
   "source": [
    "def plot_residual(y, yhat):\n",
    "    \n",
    "    residuals = y - yhat\n",
    "    \n",
    "    plt.scatter(x = y, y = residuals)\n",
    "    plt.xlabel('Home Value')\n",
    "    plt.ylabel('Residuals')\n",
    "    plt.title('Residual vs Home Value Plot')\n",
    "    \n",
    "    return plt.show()"
   ]
  },
  {
   "cell_type": "code",
   "execution_count": 45,
   "id": "d7b3b98b",
   "metadata": {},
   "outputs": [
    {
     "data": {
      "image/png": "[encoded data removed]",
      "text/plain": [
       "<Figure size 640x480 with 1 Axes>"
      ]
     },
     "metadata": {},
     "output_type": "display_data"
    }
   ],
   "source": [
    "plot_residual(preds['tax_value'], preds['yhat'])"
   ]
  },
  {
   "cell_type": "code",
   "execution_count": 56,
   "id": "0e6e15e8",
   "metadata": {},
   "outputs": [],
   "source": [
    "def regression_errors(y, yhat):\n",
    "    \n",
    "    mse = mean_squared_error(y, yhat)\n",
    "    sse = mse * len(y)\n",
    "    rmse = mse **.5\n",
    "    \n",
    "    ess = ((yhat - y.mean()) **2).sum()\n",
    "    tss = ess + sse\n",
    "    \n",
    "    return print(f'''\n",
    "    mse: {mse:.2f}\n",
    "    sse: {sse:.2f}\n",
    "    rmse: {rmse:.2f}\n",
    "    ess: {ess:.2f}\n",
    "    tss: {tss:.2f}\n",
    "    ''')"
   ]
  },
  {
   "cell_type": "code",
   "execution_count": 57,
   "id": "b73e2bae",
   "metadata": {},
   "outputs": [
    {
     "name": "stdout",
     "output_type": "stream",
     "text": [
      "\n",
      "    mse: 64297872758.29\n",
      "    sse: 93592948055065360.00\n",
      "    rmse: 253570.25\n",
      "    ess: 49300651073600152.00\n",
      "    tss: 142893599128665504.00\n",
      "    \n"
     ]
    }
   ],
   "source": [
    "regression_errors(preds.tax_value, preds.yhat)"
   ]
  },
  {
   "cell_type": "code",
   "execution_count": 61,
   "id": "71e9196f",
   "metadata": {},
   "outputs": [],
   "source": [
    "def baseline_mean_errors(y):\n",
    "    \n",
    "    baseline = np.repeat(y.mean(), len(y))\n",
    "    \n",
    "    mse = mean_squared_error(y, baseline)\n",
    "    sse = mse * len(y)\n",
    "    rmse= sqrt(mse)\n",
    "    \n",
    "    return print(f'''\n",
    "    mse: {mse:.2f}\n",
    "    sse: {sse:.2f}\n",
    "    rmse: {rmse:.2f}\n",
    "    ''')"
   ]
  },
  {
   "cell_type": "code",
   "execution_count": 62,
   "id": "bdd9e73c",
   "metadata": {},
   "outputs": [
    {
     "name": "stdout",
     "output_type": "stream",
     "text": [
      "\n",
      "    mse: 98167165856.76\n",
      "    sse: 142893599128594544.00\n",
      "    rmse: 313316.40\n",
      "    \n"
     ]
    }
   ],
   "source": [
    "baseline_mean_errors(preds['tax_value'])"
   ]
  },
  {
   "cell_type": "code",
   "execution_count": 75,
   "id": "c1b18d3a",
   "metadata": {},
   "outputs": [],
   "source": [
    "def better_than_baseline(y, yhat):\n",
    "    \n",
    "    sse, ess, tss, mse, rmse = regression_errors(y, yhat)\n",
    "    \n",
    "    sse_baseline, mse_baseline, rmse_baseline = baseline_mean_errors(y)\n",
    "    \n",
    "    return\n",
    "    if sse < sse_baseline:\n",
    "        print('My OSL model performs better than baseline')\n",
    "    else:\n",
    "        print('My OSL model performs worse than baseline')"
   ]
  },
  {
   "cell_type": "code",
   "execution_count": null,
   "id": "2d4f80e7",
   "metadata": {},
   "outputs": [],
   "source": [
    "better_than_baseline(preds['tax_value'], preds['yhat'])"
   ]
  }
 ],
 "metadata": {
  "kernelspec": {
   "display_name": "Python 3 (ipykernel)",
   "language": "python",
   "name": "python3"
  },
  "language_info": {
   "codemirror_mode": {
    "name": "ipython",
    "version": 3
   },
   "file_extension": ".py",
   "mimetype": "text/x-python",
   "name": "python",
   "nbconvert_exporter": "python",
   "pygments_lexer": "ipython3",
   "version": "3.9.13"
  }
 },
 "nbformat": 4,
 "nbformat_minor": 5
}
