{
 "cells": [
  {
   "cell_type": "markdown",
   "id": "53634f69",
   "metadata": {},
   "source": [
    "# Regression Model Evaluation "
   ]
  },
  {
   "cell_type": "markdown",
   "id": "686f38e4",
   "metadata": {},
   "source": [
    "### RMSE and $R^2$"
   ]
  },
  {
   "cell_type": "code",
   "execution_count": 1,
   "id": "9da8c15c",
   "metadata": {},
   "outputs": [],
   "source": [
    "import pandas as pd\n",
    "import numpy as np \n",
    "\n",
    "import seaborn as sns\n",
    "import matplotlib.pyplot as plt\n",
    "\n",
    "from scipy import stats\n",
    "from sklearn.metrics import mean_squared_error, r2_score, explained_variance_score\n",
    "from sklearn.feature_selection import f_regression \n",
    "from sklearn.linear_model import LinearRegression\n",
    "from math import sqrt\n",
    "\n",
    "from regprepare import get_auto_mpg, train_val_test\n",
    "\n",
    "import warnings\n",
    "warnings.filterwarnings('ignore')"
   ]
  },
  {
   "cell_type": "code",
   "execution_count": 2,
   "id": "bbf1c938",
   "metadata": {},
   "outputs": [
    {
     "data": {
      "text/html": [
       "<div>\n",
       "<style scoped>\n",
       "    .dataframe tbody tr th:only-of-type {\n",
       "        vertical-align: middle;\n",
       "    }\n",
       "\n",
       "    .dataframe tbody tr th {\n",
       "        vertical-align: top;\n",
       "    }\n",
       "\n",
       "    .dataframe thead th {\n",
       "        text-align: right;\n",
       "    }\n",
       "</style>\n",
       "<table border=\"1\" class=\"dataframe\">\n",
       "  <thead>\n",
       "    <tr style=\"text-align: right;\">\n",
       "      <th></th>\n",
       "      <th>mpg</th>\n",
       "      <th>cylinders</th>\n",
       "      <th>displ</th>\n",
       "      <th>horsepower</th>\n",
       "      <th>weight</th>\n",
       "      <th>acc</th>\n",
       "      <th>model_year</th>\n",
       "      <th>origin</th>\n",
       "      <th>name</th>\n",
       "    </tr>\n",
       "  </thead>\n",
       "  <tbody>\n",
       "    <tr>\n",
       "      <th>0</th>\n",
       "      <td>18.0</td>\n",
       "      <td>8</td>\n",
       "      <td>307.0</td>\n",
       "      <td>130.0</td>\n",
       "      <td>3504.0</td>\n",
       "      <td>12.0</td>\n",
       "      <td>70</td>\n",
       "      <td>1</td>\n",
       "      <td>\"chevrolet chevelle malibu\"</td>\n",
       "    </tr>\n",
       "    <tr>\n",
       "      <th>1</th>\n",
       "      <td>15.0</td>\n",
       "      <td>8</td>\n",
       "      <td>350.0</td>\n",
       "      <td>165.0</td>\n",
       "      <td>3693.0</td>\n",
       "      <td>11.5</td>\n",
       "      <td>70</td>\n",
       "      <td>1</td>\n",
       "      <td>\"buick skylark 320\"</td>\n",
       "    </tr>\n",
       "    <tr>\n",
       "      <th>2</th>\n",
       "      <td>18.0</td>\n",
       "      <td>8</td>\n",
       "      <td>318.0</td>\n",
       "      <td>150.0</td>\n",
       "      <td>3436.0</td>\n",
       "      <td>11.0</td>\n",
       "      <td>70</td>\n",
       "      <td>1</td>\n",
       "      <td>\"plymouth satellite\"</td>\n",
       "    </tr>\n",
       "    <tr>\n",
       "      <th>3</th>\n",
       "      <td>16.0</td>\n",
       "      <td>8</td>\n",
       "      <td>304.0</td>\n",
       "      <td>150.0</td>\n",
       "      <td>3433.0</td>\n",
       "      <td>12.0</td>\n",
       "      <td>70</td>\n",
       "      <td>1</td>\n",
       "      <td>\"amc rebel sst\"</td>\n",
       "    </tr>\n",
       "    <tr>\n",
       "      <th>4</th>\n",
       "      <td>17.0</td>\n",
       "      <td>8</td>\n",
       "      <td>302.0</td>\n",
       "      <td>140.0</td>\n",
       "      <td>3449.0</td>\n",
       "      <td>10.5</td>\n",
       "      <td>70</td>\n",
       "      <td>1</td>\n",
       "      <td>\"ford torino\"</td>\n",
       "    </tr>\n",
       "  </tbody>\n",
       "</table>\n",
       "</div>"
      ],
      "text/plain": [
       "    mpg  cylinders  displ  horsepower  weight   acc  model_year  origin  \\\n",
       "0  18.0          8  307.0       130.0  3504.0  12.0          70       1   \n",
       "1  15.0          8  350.0       165.0  3693.0  11.5          70       1   \n",
       "2  18.0          8  318.0       150.0  3436.0  11.0          70       1   \n",
       "3  16.0          8  304.0       150.0  3433.0  12.0          70       1   \n",
       "4  17.0          8  302.0       140.0  3449.0  10.5          70       1   \n",
       "\n",
       "                          name  \n",
       "0  \"chevrolet chevelle malibu\"  \n",
       "1          \"buick skylark 320\"  \n",
       "2         \"plymouth satellite\"  \n",
       "3              \"amc rebel sst\"  \n",
       "4                \"ford torino\"  "
      ]
     },
     "execution_count": 2,
     "metadata": {},
     "output_type": "execute_result"
    }
   ],
   "source": [
    "df = get_auto_mpg()\n",
    "df.head()"
   ]
  },
  {
   "cell_type": "code",
   "execution_count": 3,
   "id": "54e97164",
   "metadata": {},
   "outputs": [
    {
     "data": {
      "text/plain": [
       "((235, 9), (78, 9), (79, 9))"
      ]
     },
     "execution_count": 3,
     "metadata": {},
     "output_type": "execute_result"
    }
   ],
   "source": [
    "train, val, test = train_val_test(df, stratify = 'mpg')\n",
    "train.shape, val.shape, test.shape"
   ]
  },
  {
   "cell_type": "markdown",
   "id": "830dbea2",
   "metadata": {},
   "source": [
    "## Establish baseline and model predictions "
   ]
  },
  {
   "cell_type": "markdown",
   "id": "af7d4f26",
   "metadata": {},
   "source": [
    "The Baseline is the mean of the actual values. <br>\n",
    "A basic Linear Regression model will be used to make predictions"
   ]
  },
  {
   "cell_type": "code",
   "execution_count": 4,
   "id": "d40a8091",
   "metadata": {},
   "outputs": [],
   "source": [
    "baseline = round(train['mpg'].mean(), 2)"
   ]
  },
  {
   "cell_type": "code",
   "execution_count": 5,
   "id": "d8a70316",
   "metadata": {},
   "outputs": [],
   "source": [
    "preds = train[['horsepower', 'mpg']]"
   ]
  },
  {
   "cell_type": "code",
   "execution_count": 6,
   "id": "a2ad8e3b",
   "metadata": {},
   "outputs": [
    {
     "data": {
      "text/html": [
       "<div>\n",
       "<style scoped>\n",
       "    .dataframe tbody tr th:only-of-type {\n",
       "        vertical-align: middle;\n",
       "    }\n",
       "\n",
       "    .dataframe tbody tr th {\n",
       "        vertical-align: top;\n",
       "    }\n",
       "\n",
       "    .dataframe thead th {\n",
       "        text-align: right;\n",
       "    }\n",
       "</style>\n",
       "<table border=\"1\" class=\"dataframe\">\n",
       "  <thead>\n",
       "    <tr style=\"text-align: right;\">\n",
       "      <th></th>\n",
       "      <th>horsepower</th>\n",
       "      <th>mpg</th>\n",
       "      <th>baseline_preds</th>\n",
       "    </tr>\n",
       "  </thead>\n",
       "  <tbody>\n",
       "    <tr>\n",
       "      <th>212</th>\n",
       "      <td>180.0</td>\n",
       "      <td>16.5</td>\n",
       "      <td>23.5</td>\n",
       "    </tr>\n",
       "    <tr>\n",
       "      <th>346</th>\n",
       "      <td>67.0</td>\n",
       "      <td>32.3</td>\n",
       "      <td>23.5</td>\n",
       "    </tr>\n",
       "    <tr>\n",
       "      <th>325</th>\n",
       "      <td>48.0</td>\n",
       "      <td>44.3</td>\n",
       "      <td>23.5</td>\n",
       "    </tr>\n",
       "    <tr>\n",
       "      <th>90</th>\n",
       "      <td>198.0</td>\n",
       "      <td>12.0</td>\n",
       "      <td>23.5</td>\n",
       "    </tr>\n",
       "    <tr>\n",
       "      <th>246</th>\n",
       "      <td>52.0</td>\n",
       "      <td>32.8</td>\n",
       "      <td>23.5</td>\n",
       "    </tr>\n",
       "  </tbody>\n",
       "</table>\n",
       "</div>"
      ],
      "text/plain": [
       "     horsepower   mpg  baseline_preds\n",
       "212       180.0  16.5            23.5\n",
       "346        67.0  32.3            23.5\n",
       "325        48.0  44.3            23.5\n",
       "90        198.0  12.0            23.5\n",
       "246        52.0  32.8            23.5"
      ]
     },
     "execution_count": 6,
     "metadata": {},
     "output_type": "execute_result"
    }
   ],
   "source": [
    "preds['baseline_preds'] = baseline\n",
    "preds.head()"
   ]
  },
  {
   "cell_type": "code",
   "execution_count": 7,
   "id": "904975b4",
   "metadata": {},
   "outputs": [
    {
     "data": {
      "text/html": [
       "<style>#sk-container-id-1 {color: black;background-color: white;}#sk-container-id-1 pre{padding: 0;}#sk-container-id-1 div.sk-toggleable {background-color: white;}#sk-container-id-1 label.sk-toggleable__label {cursor: pointer;display: block;width: 100%;margin-bottom: 0;padding: 0.3em;box-sizing: border-box;text-align: center;}#sk-container-id-1 label.sk-toggleable__label-arrow:before {content: \"▸\";float: left;margin-right: 0.25em;color: #696969;}#sk-container-id-1 label.sk-toggleable__label-arrow:hover:before {color: black;}#sk-container-id-1 div.sk-estimator:hover label.sk-toggleable__label-arrow:before {color: black;}#sk-container-id-1 div.sk-toggleable__content {max-height: 0;max-width: 0;overflow: hidden;text-align: left;background-color: #f0f8ff;}#sk-container-id-1 div.sk-toggleable__content pre {margin: 0.2em;color: black;border-radius: 0.25em;background-color: #f0f8ff;}#sk-container-id-1 input.sk-toggleable__control:checked~div.sk-toggleable__content {max-height: 200px;max-width: 100%;overflow: auto;}#sk-container-id-1 input.sk-toggleable__control:checked~label.sk-toggleable__label-arrow:before {content: \"▾\";}#sk-container-id-1 div.sk-estimator input.sk-toggleable__control:checked~label.sk-toggleable__label {background-color: #d4ebff;}#sk-container-id-1 div.sk-label input.sk-toggleable__control:checked~label.sk-toggleable__label {background-color: #d4ebff;}#sk-container-id-1 input.sk-hidden--visually {border: 0;clip: rect(1px 1px 1px 1px);clip: rect(1px, 1px, 1px, 1px);height: 1px;margin: -1px;overflow: hidden;padding: 0;position: absolute;width: 1px;}#sk-container-id-1 div.sk-estimator {font-family: monospace;background-color: #f0f8ff;border: 1px dotted black;border-radius: 0.25em;box-sizing: border-box;margin-bottom: 0.5em;}#sk-container-id-1 div.sk-estimator:hover {background-color: #d4ebff;}#sk-container-id-1 div.sk-parallel-item::after {content: \"\";width: 100%;border-bottom: 1px solid gray;flex-grow: 1;}#sk-container-id-1 div.sk-label:hover label.sk-toggleable__label {background-color: #d4ebff;}#sk-container-id-1 div.sk-serial::before {content: \"\";position: absolute;border-left: 1px solid gray;box-sizing: border-box;top: 0;bottom: 0;left: 50%;z-index: 0;}#sk-container-id-1 div.sk-serial {display: flex;flex-direction: column;align-items: center;background-color: white;padding-right: 0.2em;padding-left: 0.2em;position: relative;}#sk-container-id-1 div.sk-item {position: relative;z-index: 1;}#sk-container-id-1 div.sk-parallel {display: flex;align-items: stretch;justify-content: center;background-color: white;position: relative;}#sk-container-id-1 div.sk-item::before, #sk-container-id-1 div.sk-parallel-item::before {content: \"\";position: absolute;border-left: 1px solid gray;box-sizing: border-box;top: 0;bottom: 0;left: 50%;z-index: -1;}#sk-container-id-1 div.sk-parallel-item {display: flex;flex-direction: column;z-index: 1;position: relative;background-color: white;}#sk-container-id-1 div.sk-parallel-item:first-child::after {align-self: flex-end;width: 50%;}#sk-container-id-1 div.sk-parallel-item:last-child::after {align-self: flex-start;width: 50%;}#sk-container-id-1 div.sk-parallel-item:only-child::after {width: 0;}#sk-container-id-1 div.sk-dashed-wrapped {border: 1px dashed gray;margin: 0 0.4em 0.5em 0.4em;box-sizing: border-box;padding-bottom: 0.4em;background-color: white;}#sk-container-id-1 div.sk-label label {font-family: monospace;font-weight: bold;display: inline-block;line-height: 1.2em;}#sk-container-id-1 div.sk-label-container {text-align: center;}#sk-container-id-1 div.sk-container {/* jupyter's `normalize.less` sets `[hidden] { display: none; }` but bootstrap.min.css set `[hidden] { display: none !important; }` so we also need the `!important` here to be able to override the default hidden behavior on the sphinx rendered scikit-learn.org. See: https://github.com/scikit-learn/scikit-learn/issues/21755 */display: inline-block !important;position: relative;}#sk-container-id-1 div.sk-text-repr-fallback {display: none;}</style><div id=\"sk-container-id-1\" class=\"sk-top-container\"><div class=\"sk-text-repr-fallback\"><pre>LinearRegression()</pre><b>In a Jupyter environment, please rerun this cell to show the HTML representation or trust the notebook. <br />On GitHub, the HTML representation is unable to render, please try loading this page with nbviewer.org.</b></div><div class=\"sk-container\" hidden><div class=\"sk-item\"><div class=\"sk-estimator sk-toggleable\"><input class=\"sk-toggleable__control sk-hidden--visually\" id=\"sk-estimator-id-1\" type=\"checkbox\" checked><label for=\"sk-estimator-id-1\" class=\"sk-toggleable__label sk-toggleable__label-arrow\">LinearRegression</label><div class=\"sk-toggleable__content\"><pre>LinearRegression()</pre></div></div></div></div></div>"
      ],
      "text/plain": [
       "LinearRegression()"
      ]
     },
     "execution_count": 7,
     "metadata": {},
     "output_type": "execute_result"
    }
   ],
   "source": [
    "ols_model = LinearRegression()\n",
    "\n",
    "ols_model.fit(train[['horsepower']], train[['mpg']])"
   ]
  },
  {
   "cell_type": "code",
   "execution_count": 9,
   "id": "5fb0c313",
   "metadata": {},
   "outputs": [
    {
     "data": {
      "text/html": [
       "<div>\n",
       "<style scoped>\n",
       "    .dataframe tbody tr th:only-of-type {\n",
       "        vertical-align: middle;\n",
       "    }\n",
       "\n",
       "    .dataframe tbody tr th {\n",
       "        vertical-align: top;\n",
       "    }\n",
       "\n",
       "    .dataframe thead th {\n",
       "        text-align: right;\n",
       "    }\n",
       "</style>\n",
       "<table border=\"1\" class=\"dataframe\">\n",
       "  <thead>\n",
       "    <tr style=\"text-align: right;\">\n",
       "      <th></th>\n",
       "      <th>horsepower</th>\n",
       "      <th>mpg</th>\n",
       "      <th>baseline_preds</th>\n",
       "      <th>yhat</th>\n",
       "    </tr>\n",
       "  </thead>\n",
       "  <tbody>\n",
       "    <tr>\n",
       "      <th>212</th>\n",
       "      <td>180.0</td>\n",
       "      <td>16.5</td>\n",
       "      <td>23.5</td>\n",
       "      <td>11.058302</td>\n",
       "    </tr>\n",
       "    <tr>\n",
       "      <th>346</th>\n",
       "      <td>67.0</td>\n",
       "      <td>32.3</td>\n",
       "      <td>23.5</td>\n",
       "      <td>30.114463</td>\n",
       "    </tr>\n",
       "    <tr>\n",
       "      <th>325</th>\n",
       "      <td>48.0</td>\n",
       "      <td>44.3</td>\n",
       "      <td>23.5</td>\n",
       "      <td>33.318596</td>\n",
       "    </tr>\n",
       "    <tr>\n",
       "      <th>90</th>\n",
       "      <td>198.0</td>\n",
       "      <td>12.0</td>\n",
       "      <td>23.5</td>\n",
       "      <td>8.022807</td>\n",
       "    </tr>\n",
       "    <tr>\n",
       "      <th>246</th>\n",
       "      <td>52.0</td>\n",
       "      <td>32.8</td>\n",
       "      <td>23.5</td>\n",
       "      <td>32.644042</td>\n",
       "    </tr>\n",
       "  </tbody>\n",
       "</table>\n",
       "</div>"
      ],
      "text/plain": [
       "     horsepower   mpg  baseline_preds       yhat\n",
       "212       180.0  16.5            23.5  11.058302\n",
       "346        67.0  32.3            23.5  30.114463\n",
       "325        48.0  44.3            23.5  33.318596\n",
       "90        198.0  12.0            23.5   8.022807\n",
       "246        52.0  32.8            23.5  32.644042"
      ]
     },
     "execution_count": 9,
     "metadata": {},
     "output_type": "execute_result"
    }
   ],
   "source": [
    "preds['yhat'] = ols_model.predict(train[['horsepower']])\n",
    "preds.head()"
   ]
  },
  {
   "cell_type": "markdown",
   "id": "55c337c0",
   "metadata": {},
   "source": [
    "## Compute residuals\n",
    "Predictions minus actual"
   ]
  },
  {
   "cell_type": "code",
   "execution_count": 11,
   "id": "e03d32f0",
   "metadata": {},
   "outputs": [
    {
     "data": {
      "text/html": [
       "<div>\n",
       "<style scoped>\n",
       "    .dataframe tbody tr th:only-of-type {\n",
       "        vertical-align: middle;\n",
       "    }\n",
       "\n",
       "    .dataframe tbody tr th {\n",
       "        vertical-align: top;\n",
       "    }\n",
       "\n",
       "    .dataframe thead th {\n",
       "        text-align: right;\n",
       "    }\n",
       "</style>\n",
       "<table border=\"1\" class=\"dataframe\">\n",
       "  <thead>\n",
       "    <tr style=\"text-align: right;\">\n",
       "      <th></th>\n",
       "      <th>horsepower</th>\n",
       "      <th>mpg</th>\n",
       "      <th>baseline_preds</th>\n",
       "      <th>yhat</th>\n",
       "      <th>baseline_res</th>\n",
       "    </tr>\n",
       "  </thead>\n",
       "  <tbody>\n",
       "    <tr>\n",
       "      <th>212</th>\n",
       "      <td>180.0</td>\n",
       "      <td>16.5</td>\n",
       "      <td>23.5</td>\n",
       "      <td>11.058302</td>\n",
       "      <td>7.0</td>\n",
       "    </tr>\n",
       "    <tr>\n",
       "      <th>346</th>\n",
       "      <td>67.0</td>\n",
       "      <td>32.3</td>\n",
       "      <td>23.5</td>\n",
       "      <td>30.114463</td>\n",
       "      <td>-8.8</td>\n",
       "    </tr>\n",
       "    <tr>\n",
       "      <th>325</th>\n",
       "      <td>48.0</td>\n",
       "      <td>44.3</td>\n",
       "      <td>23.5</td>\n",
       "      <td>33.318596</td>\n",
       "      <td>-20.8</td>\n",
       "    </tr>\n",
       "    <tr>\n",
       "      <th>90</th>\n",
       "      <td>198.0</td>\n",
       "      <td>12.0</td>\n",
       "      <td>23.5</td>\n",
       "      <td>8.022807</td>\n",
       "      <td>11.5</td>\n",
       "    </tr>\n",
       "    <tr>\n",
       "      <th>246</th>\n",
       "      <td>52.0</td>\n",
       "      <td>32.8</td>\n",
       "      <td>23.5</td>\n",
       "      <td>32.644042</td>\n",
       "      <td>-9.3</td>\n",
       "    </tr>\n",
       "  </tbody>\n",
       "</table>\n",
       "</div>"
      ],
      "text/plain": [
       "     horsepower   mpg  baseline_preds       yhat  baseline_res\n",
       "212       180.0  16.5            23.5  11.058302           7.0\n",
       "346        67.0  32.3            23.5  30.114463          -8.8\n",
       "325        48.0  44.3            23.5  33.318596         -20.8\n",
       "90        198.0  12.0            23.5   8.022807          11.5\n",
       "246        52.0  32.8            23.5  32.644042          -9.3"
      ]
     },
     "execution_count": 11,
     "metadata": {},
     "output_type": "execute_result"
    }
   ],
   "source": [
    "preds['baseline_res'] = preds['baseline_preds'] - preds['mpg']\n",
    "preds.head()"
   ]
  },
  {
   "cell_type": "code",
   "execution_count": 14,
   "id": "573bde1f",
   "metadata": {},
   "outputs": [
    {
     "data": {
      "image/png": "[encoded data removed]",
      "text/plain": [
       "<Figure size 640x480 with 1 Axes>"
      ]
     },
     "metadata": {},
     "output_type": "display_data"
    }
   ],
   "source": [
    "plt.scatter(preds['horsepower'], preds['baseline_res'])\n",
    "plt.xlabel('Horsepower')\n",
    "plt.ylabel('Baseline Residual')\n",
    "plt.show()"
   ]
  },
  {
   "cell_type": "code",
   "execution_count": 17,
   "id": "9d7eebe1",
   "metadata": {},
   "outputs": [
    {
     "data": {
      "text/html": [
       "<div>\n",
       "<style scoped>\n",
       "    .dataframe tbody tr th:only-of-type {\n",
       "        vertical-align: middle;\n",
       "    }\n",
       "\n",
       "    .dataframe tbody tr th {\n",
       "        vertical-align: top;\n",
       "    }\n",
       "\n",
       "    .dataframe thead th {\n",
       "        text-align: right;\n",
       "    }\n",
       "</style>\n",
       "<table border=\"1\" class=\"dataframe\">\n",
       "  <thead>\n",
       "    <tr style=\"text-align: right;\">\n",
       "      <th></th>\n",
       "      <th>horsepower</th>\n",
       "      <th>mpg</th>\n",
       "      <th>baseline_preds</th>\n",
       "      <th>yhat</th>\n",
       "      <th>baseline_res</th>\n",
       "      <th>yhat_res</th>\n",
       "    </tr>\n",
       "  </thead>\n",
       "  <tbody>\n",
       "    <tr>\n",
       "      <th>212</th>\n",
       "      <td>180.0</td>\n",
       "      <td>16.5</td>\n",
       "      <td>23.5</td>\n",
       "      <td>11.058302</td>\n",
       "      <td>7.0</td>\n",
       "      <td>-5.441698</td>\n",
       "    </tr>\n",
       "    <tr>\n",
       "      <th>346</th>\n",
       "      <td>67.0</td>\n",
       "      <td>32.3</td>\n",
       "      <td>23.5</td>\n",
       "      <td>30.114463</td>\n",
       "      <td>-8.8</td>\n",
       "      <td>-2.185537</td>\n",
       "    </tr>\n",
       "    <tr>\n",
       "      <th>325</th>\n",
       "      <td>48.0</td>\n",
       "      <td>44.3</td>\n",
       "      <td>23.5</td>\n",
       "      <td>33.318596</td>\n",
       "      <td>-20.8</td>\n",
       "      <td>-10.981404</td>\n",
       "    </tr>\n",
       "    <tr>\n",
       "      <th>90</th>\n",
       "      <td>198.0</td>\n",
       "      <td>12.0</td>\n",
       "      <td>23.5</td>\n",
       "      <td>8.022807</td>\n",
       "      <td>11.5</td>\n",
       "      <td>-3.977193</td>\n",
       "    </tr>\n",
       "    <tr>\n",
       "      <th>246</th>\n",
       "      <td>52.0</td>\n",
       "      <td>32.8</td>\n",
       "      <td>23.5</td>\n",
       "      <td>32.644042</td>\n",
       "      <td>-9.3</td>\n",
       "      <td>-0.155958</td>\n",
       "    </tr>\n",
       "  </tbody>\n",
       "</table>\n",
       "</div>"
      ],
      "text/plain": [
       "     horsepower   mpg  baseline_preds       yhat  baseline_res   yhat_res\n",
       "212       180.0  16.5            23.5  11.058302           7.0  -5.441698\n",
       "346        67.0  32.3            23.5  30.114463          -8.8  -2.185537\n",
       "325        48.0  44.3            23.5  33.318596         -20.8 -10.981404\n",
       "90        198.0  12.0            23.5   8.022807          11.5  -3.977193\n",
       "246        52.0  32.8            23.5  32.644042          -9.3  -0.155958"
      ]
     },
     "execution_count": 17,
     "metadata": {},
     "output_type": "execute_result"
    }
   ],
   "source": [
    "preds['yhat_res'] = preds['yhat'] - preds['mpg']\n",
    "preds.head()"
   ]
  },
  {
   "cell_type": "code",
   "execution_count": 18,
   "id": "e1932bbb",
   "metadata": {},
   "outputs": [
    {
     "data": {
      "image/png": "[encoded data removed]",
      "text/plain": [
       "<Figure size 640x480 with 1 Axes>"
      ]
     },
     "metadata": {},
     "output_type": "display_data"
    }
   ],
   "source": [
    "plt.scatter(preds['horsepower'], preds['yhat_res'])\n",
    "plt.xlabel('Horsepower')\n",
    "plt.ylabel('Predictions Residual')\n",
    "plt.show()"
   ]
  },
  {
   "cell_type": "markdown",
   "id": "bade183a",
   "metadata": {},
   "source": [
    "## Compute SSE\n",
    "\n",
    "SSE - Sum of Squared Errors\n",
    "\n",
    "Also known as the RSS - Residual Sum of Squares\n",
    "\n",
    "Predicted minus actual, squared and summed"
   ]
  },
  {
   "cell_type": "code",
   "execution_count": 20,
   "id": "3a357412",
   "metadata": {},
   "outputs": [
    {
     "data": {
      "text/plain": [
       "['horsepower', 'mpg', 'baseline_preds', 'yhat', 'baseline_res', 'yhat_res']"
      ]
     },
     "execution_count": 20,
     "metadata": {},
     "output_type": "execute_result"
    }
   ],
   "source": [
    "preds.columns.to_list()"
   ]
  },
  {
   "cell_type": "code",
   "execution_count": 21,
   "id": "16fa5730",
   "metadata": {},
   "outputs": [
    {
     "data": {
      "text/html": [
       "<div>\n",
       "<style scoped>\n",
       "    .dataframe tbody tr th:only-of-type {\n",
       "        vertical-align: middle;\n",
       "    }\n",
       "\n",
       "    .dataframe tbody tr th {\n",
       "        vertical-align: top;\n",
       "    }\n",
       "\n",
       "    .dataframe thead th {\n",
       "        text-align: right;\n",
       "    }\n",
       "</style>\n",
       "<table border=\"1\" class=\"dataframe\">\n",
       "  <thead>\n",
       "    <tr style=\"text-align: right;\">\n",
       "      <th></th>\n",
       "      <th>horsepower</th>\n",
       "      <th>mpg</th>\n",
       "      <th>baseline_preds</th>\n",
       "      <th>yhat</th>\n",
       "      <th>baseline_res</th>\n",
       "      <th>yhat_res</th>\n",
       "      <th>baseline_res_squared</th>\n",
       "      <th>yhat_res_sqaured</th>\n",
       "    </tr>\n",
       "  </thead>\n",
       "  <tbody>\n",
       "    <tr>\n",
       "      <th>212</th>\n",
       "      <td>180.0</td>\n",
       "      <td>16.5</td>\n",
       "      <td>23.5</td>\n",
       "      <td>11.058302</td>\n",
       "      <td>7.0</td>\n",
       "      <td>-5.441698</td>\n",
       "      <td>49.00</td>\n",
       "      <td>29.612081</td>\n",
       "    </tr>\n",
       "    <tr>\n",
       "      <th>346</th>\n",
       "      <td>67.0</td>\n",
       "      <td>32.3</td>\n",
       "      <td>23.5</td>\n",
       "      <td>30.114463</td>\n",
       "      <td>-8.8</td>\n",
       "      <td>-2.185537</td>\n",
       "      <td>77.44</td>\n",
       "      <td>4.776574</td>\n",
       "    </tr>\n",
       "    <tr>\n",
       "      <th>325</th>\n",
       "      <td>48.0</td>\n",
       "      <td>44.3</td>\n",
       "      <td>23.5</td>\n",
       "      <td>33.318596</td>\n",
       "      <td>-20.8</td>\n",
       "      <td>-10.981404</td>\n",
       "      <td>432.64</td>\n",
       "      <td>120.591236</td>\n",
       "    </tr>\n",
       "    <tr>\n",
       "      <th>90</th>\n",
       "      <td>198.0</td>\n",
       "      <td>12.0</td>\n",
       "      <td>23.5</td>\n",
       "      <td>8.022807</td>\n",
       "      <td>11.5</td>\n",
       "      <td>-3.977193</td>\n",
       "      <td>132.25</td>\n",
       "      <td>15.818065</td>\n",
       "    </tr>\n",
       "    <tr>\n",
       "      <th>246</th>\n",
       "      <td>52.0</td>\n",
       "      <td>32.8</td>\n",
       "      <td>23.5</td>\n",
       "      <td>32.644042</td>\n",
       "      <td>-9.3</td>\n",
       "      <td>-0.155958</td>\n",
       "      <td>86.49</td>\n",
       "      <td>0.024323</td>\n",
       "    </tr>\n",
       "  </tbody>\n",
       "</table>\n",
       "</div>"
      ],
      "text/plain": [
       "     horsepower   mpg  baseline_preds       yhat  baseline_res   yhat_res  \\\n",
       "212       180.0  16.5            23.5  11.058302           7.0  -5.441698   \n",
       "346        67.0  32.3            23.5  30.114463          -8.8  -2.185537   \n",
       "325        48.0  44.3            23.5  33.318596         -20.8 -10.981404   \n",
       "90        198.0  12.0            23.5   8.022807          11.5  -3.977193   \n",
       "246        52.0  32.8            23.5  32.644042          -9.3  -0.155958   \n",
       "\n",
       "     baseline_res_squared  yhat_res_sqaured  \n",
       "212                 49.00         29.612081  \n",
       "346                 77.44          4.776574  \n",
       "325                432.64        120.591236  \n",
       "90                 132.25         15.818065  \n",
       "246                 86.49          0.024323  "
      ]
     },
     "execution_count": 21,
     "metadata": {},
     "output_type": "execute_result"
    }
   ],
   "source": [
    "preds['baseline_res_squared'] = preds['baseline_res'] ** 2\n",
    "preds['yhat_res_sqaured'] = preds['yhat_res'] ** 2\n",
    "preds.head()"
   ]
  },
  {
   "cell_type": "code",
   "execution_count": 25,
   "id": "172b466e",
   "metadata": {},
   "outputs": [
    {
     "data": {
      "text/plain": [
       "(15330.830000000002, 5355.469277811718)"
      ]
     },
     "execution_count": 25,
     "metadata": {},
     "output_type": "execute_result"
    }
   ],
   "source": [
    "sse_baseline = preds['baseline_res_squared'].sum()\n",
    "sse_yhat = preds['yhat_res_sqaured'].sum()\n",
    "sse_baseline, sse_yhat"
   ]
  },
  {
   "cell_type": "markdown",
   "id": "504bbc1d",
   "metadata": {},
   "source": [
    "## Compute MSE \n",
    "\n",
    "MSE - Mean Squared Error\n",
    "\n",
    "Divide the SSE by the total number of data points"
   ]
  },
  {
   "cell_type": "code",
   "execution_count": 27,
   "id": "f42ac042",
   "metadata": {},
   "outputs": [
    {
     "data": {
      "text/plain": [
       "(65.23757446808511, 22.789230969411566)"
      ]
     },
     "execution_count": 27,
     "metadata": {},
     "output_type": "execute_result"
    }
   ],
   "source": [
    "mse_baseline = sse_baseline/len(preds)\n",
    "mse_yhat = sse_yhat/len(preds)\n",
    "mse_baseline, mse_yhat"
   ]
  },
  {
   "cell_type": "markdown",
   "id": "409a9fc4",
   "metadata": {},
   "source": [
    "## Compute RMSE \n",
    "\n",
    "RMSE - Root Mean Squared Error\n",
    "\n",
    "Take the square root of the MSE"
   ]
  },
  {
   "cell_type": "code",
   "execution_count": 29,
   "id": "342e4c1e",
   "metadata": {},
   "outputs": [
    {
     "data": {
      "text/plain": [
       "(8.076978052965423, 4.773806758700185)"
      ]
     },
     "execution_count": 29,
     "metadata": {},
     "output_type": "execute_result"
    }
   ],
   "source": [
    "rmse_baseline = sqrt(mse_baseline)\n",
    "rmse_yhat = sqrt(mse_yhat)\n",
    "rmse_baseline, rmse_yhat"
   ]
  },
  {
   "cell_type": "markdown",
   "id": "dee8786f",
   "metadata": {},
   "source": [
    "## Doing it all with the sklearn library\n",
    "\n",
    "mean_squared_error"
   ]
  },
  {
   "cell_type": "code",
   "execution_count": 31,
   "id": "249cd00c",
   "metadata": {},
   "outputs": [
    {
     "data": {
      "text/plain": [
       "['horsepower',\n",
       " 'mpg',\n",
       " 'baseline_preds',\n",
       " 'yhat',\n",
       " 'baseline_res',\n",
       " 'yhat_res',\n",
       " 'baseline_res_squared',\n",
       " 'yhat_res_sqaured']"
      ]
     },
     "execution_count": 31,
     "metadata": {},
     "output_type": "execute_result"
    }
   ],
   "source": [
    "preds.columns.to_list()"
   ]
  },
  {
   "cell_type": "code",
   "execution_count": 32,
   "id": "35c744e9",
   "metadata": {},
   "outputs": [
    {
     "data": {
      "text/plain": [
       "8.076978052965423"
      ]
     },
     "execution_count": 32,
     "metadata": {},
     "output_type": "execute_result"
    }
   ],
   "source": [
    "sqrt(mean_squared_error(preds['mpg'], preds['baseline_preds']))"
   ]
  },
  {
   "cell_type": "code",
   "execution_count": 33,
   "id": "8f23f94d",
   "metadata": {},
   "outputs": [
    {
     "data": {
      "text/plain": [
       "4.773806758700185"
      ]
     },
     "execution_count": 33,
     "metadata": {},
     "output_type": "execute_result"
    }
   ],
   "source": [
    "sqrt(mean_squared_error(preds['mpg'], preds['yhat']))"
   ]
  },
  {
   "cell_type": "code",
   "execution_count": 34,
   "id": "eccc66d0",
   "metadata": {},
   "outputs": [
    {
     "data": {
      "text/plain": [
       "8.076978052965423"
      ]
     },
     "execution_count": 34,
     "metadata": {},
     "output_type": "execute_result"
    }
   ],
   "source": [
    "mean_squared_error(preds['mpg'], preds['baseline_preds'], squared = False)"
   ]
  },
  {
   "cell_type": "markdown",
   "id": "dd5c9ed1",
   "metadata": {},
   "source": [
    "## Model Significance\n",
    "\n",
    "Caluclating the $R^2$ value by hand\n",
    "\n",
    "$R^2$ = ESS /TSS"
   ]
  },
  {
   "cell_type": "markdown",
   "id": "46eae425",
   "metadata": {},
   "source": [
    "## Compute ESS\n",
    "\n",
    "ESS - Explained of Sum Squares\n",
    "\n",
    "Prediction minus mean of actual values, sqaured and summed"
   ]
  },
  {
   "cell_type": "code",
   "execution_count": 35,
   "id": "8b890241",
   "metadata": {},
   "outputs": [
    {
     "data": {
      "text/html": [
       "<div>\n",
       "<style scoped>\n",
       "    .dataframe tbody tr th:only-of-type {\n",
       "        vertical-align: middle;\n",
       "    }\n",
       "\n",
       "    .dataframe tbody tr th {\n",
       "        vertical-align: top;\n",
       "    }\n",
       "\n",
       "    .dataframe thead th {\n",
       "        text-align: right;\n",
       "    }\n",
       "</style>\n",
       "<table border=\"1\" class=\"dataframe\">\n",
       "  <thead>\n",
       "    <tr style=\"text-align: right;\">\n",
       "      <th></th>\n",
       "      <th>horsepower</th>\n",
       "      <th>mpg</th>\n",
       "      <th>baseline_preds</th>\n",
       "      <th>yhat</th>\n",
       "      <th>baseline_res</th>\n",
       "      <th>yhat_res</th>\n",
       "      <th>baseline_res_squared</th>\n",
       "      <th>yhat_res_sqaured</th>\n",
       "    </tr>\n",
       "  </thead>\n",
       "  <tbody>\n",
       "    <tr>\n",
       "      <th>212</th>\n",
       "      <td>180.0</td>\n",
       "      <td>16.5</td>\n",
       "      <td>23.5</td>\n",
       "      <td>11.058302</td>\n",
       "      <td>7.0</td>\n",
       "      <td>-5.441698</td>\n",
       "      <td>49.00</td>\n",
       "      <td>29.612081</td>\n",
       "    </tr>\n",
       "    <tr>\n",
       "      <th>346</th>\n",
       "      <td>67.0</td>\n",
       "      <td>32.3</td>\n",
       "      <td>23.5</td>\n",
       "      <td>30.114463</td>\n",
       "      <td>-8.8</td>\n",
       "      <td>-2.185537</td>\n",
       "      <td>77.44</td>\n",
       "      <td>4.776574</td>\n",
       "    </tr>\n",
       "    <tr>\n",
       "      <th>325</th>\n",
       "      <td>48.0</td>\n",
       "      <td>44.3</td>\n",
       "      <td>23.5</td>\n",
       "      <td>33.318596</td>\n",
       "      <td>-20.8</td>\n",
       "      <td>-10.981404</td>\n",
       "      <td>432.64</td>\n",
       "      <td>120.591236</td>\n",
       "    </tr>\n",
       "    <tr>\n",
       "      <th>90</th>\n",
       "      <td>198.0</td>\n",
       "      <td>12.0</td>\n",
       "      <td>23.5</td>\n",
       "      <td>8.022807</td>\n",
       "      <td>11.5</td>\n",
       "      <td>-3.977193</td>\n",
       "      <td>132.25</td>\n",
       "      <td>15.818065</td>\n",
       "    </tr>\n",
       "    <tr>\n",
       "      <th>246</th>\n",
       "      <td>52.0</td>\n",
       "      <td>32.8</td>\n",
       "      <td>23.5</td>\n",
       "      <td>32.644042</td>\n",
       "      <td>-9.3</td>\n",
       "      <td>-0.155958</td>\n",
       "      <td>86.49</td>\n",
       "      <td>0.024323</td>\n",
       "    </tr>\n",
       "  </tbody>\n",
       "</table>\n",
       "</div>"
      ],
      "text/plain": [
       "     horsepower   mpg  baseline_preds       yhat  baseline_res   yhat_res  \\\n",
       "212       180.0  16.5            23.5  11.058302           7.0  -5.441698   \n",
       "346        67.0  32.3            23.5  30.114463          -8.8  -2.185537   \n",
       "325        48.0  44.3            23.5  33.318596         -20.8 -10.981404   \n",
       "90        198.0  12.0            23.5   8.022807          11.5  -3.977193   \n",
       "246        52.0  32.8            23.5  32.644042          -9.3  -0.155958   \n",
       "\n",
       "     baseline_res_squared  yhat_res_sqaured  \n",
       "212                 49.00         29.612081  \n",
       "346                 77.44          4.776574  \n",
       "325                432.64        120.591236  \n",
       "90                 132.25         15.818065  \n",
       "246                 86.49          0.024323  "
      ]
     },
     "execution_count": 35,
     "metadata": {},
     "output_type": "execute_result"
    }
   ],
   "source": [
    "preds.head()"
   ]
  },
  {
   "cell_type": "code",
   "execution_count": 36,
   "id": "d2bbbbae",
   "metadata": {},
   "outputs": [
    {
     "data": {
      "text/html": [
       "<div>\n",
       "<style scoped>\n",
       "    .dataframe tbody tr th:only-of-type {\n",
       "        vertical-align: middle;\n",
       "    }\n",
       "\n",
       "    .dataframe tbody tr th {\n",
       "        vertical-align: top;\n",
       "    }\n",
       "\n",
       "    .dataframe thead th {\n",
       "        text-align: right;\n",
       "    }\n",
       "</style>\n",
       "<table border=\"1\" class=\"dataframe\">\n",
       "  <thead>\n",
       "    <tr style=\"text-align: right;\">\n",
       "      <th></th>\n",
       "      <th>horsepower</th>\n",
       "      <th>mpg</th>\n",
       "      <th>baseline_preds</th>\n",
       "      <th>yhat</th>\n",
       "      <th>baseline_res</th>\n",
       "      <th>yhat_res</th>\n",
       "      <th>baseline_res_squared</th>\n",
       "      <th>yhat_res_sqaured</th>\n",
       "      <th>yhat_mean_res</th>\n",
       "    </tr>\n",
       "  </thead>\n",
       "  <tbody>\n",
       "    <tr>\n",
       "      <th>212</th>\n",
       "      <td>180.0</td>\n",
       "      <td>16.5</td>\n",
       "      <td>23.5</td>\n",
       "      <td>11.058302</td>\n",
       "      <td>7.0</td>\n",
       "      <td>-5.441698</td>\n",
       "      <td>49.00</td>\n",
       "      <td>29.612081</td>\n",
       "      <td>-12.441698</td>\n",
       "    </tr>\n",
       "    <tr>\n",
       "      <th>346</th>\n",
       "      <td>67.0</td>\n",
       "      <td>32.3</td>\n",
       "      <td>23.5</td>\n",
       "      <td>30.114463</td>\n",
       "      <td>-8.8</td>\n",
       "      <td>-2.185537</td>\n",
       "      <td>77.44</td>\n",
       "      <td>4.776574</td>\n",
       "      <td>6.614463</td>\n",
       "    </tr>\n",
       "    <tr>\n",
       "      <th>325</th>\n",
       "      <td>48.0</td>\n",
       "      <td>44.3</td>\n",
       "      <td>23.5</td>\n",
       "      <td>33.318596</td>\n",
       "      <td>-20.8</td>\n",
       "      <td>-10.981404</td>\n",
       "      <td>432.64</td>\n",
       "      <td>120.591236</td>\n",
       "      <td>9.818596</td>\n",
       "    </tr>\n",
       "    <tr>\n",
       "      <th>90</th>\n",
       "      <td>198.0</td>\n",
       "      <td>12.0</td>\n",
       "      <td>23.5</td>\n",
       "      <td>8.022807</td>\n",
       "      <td>11.5</td>\n",
       "      <td>-3.977193</td>\n",
       "      <td>132.25</td>\n",
       "      <td>15.818065</td>\n",
       "      <td>-15.477193</td>\n",
       "    </tr>\n",
       "    <tr>\n",
       "      <th>246</th>\n",
       "      <td>52.0</td>\n",
       "      <td>32.8</td>\n",
       "      <td>23.5</td>\n",
       "      <td>32.644042</td>\n",
       "      <td>-9.3</td>\n",
       "      <td>-0.155958</td>\n",
       "      <td>86.49</td>\n",
       "      <td>0.024323</td>\n",
       "      <td>9.144042</td>\n",
       "    </tr>\n",
       "  </tbody>\n",
       "</table>\n",
       "</div>"
      ],
      "text/plain": [
       "     horsepower   mpg  baseline_preds       yhat  baseline_res   yhat_res  \\\n",
       "212       180.0  16.5            23.5  11.058302           7.0  -5.441698   \n",
       "346        67.0  32.3            23.5  30.114463          -8.8  -2.185537   \n",
       "325        48.0  44.3            23.5  33.318596         -20.8 -10.981404   \n",
       "90        198.0  12.0            23.5   8.022807          11.5  -3.977193   \n",
       "246        52.0  32.8            23.5  32.644042          -9.3  -0.155958   \n",
       "\n",
       "     baseline_res_squared  yhat_res_sqaured  yhat_mean_res  \n",
       "212                 49.00         29.612081     -12.441698  \n",
       "346                 77.44          4.776574       6.614463  \n",
       "325                432.64        120.591236       9.818596  \n",
       "90                 132.25         15.818065     -15.477193  \n",
       "246                 86.49          0.024323       9.144042  "
      ]
     },
     "execution_count": 36,
     "metadata": {},
     "output_type": "execute_result"
    }
   ],
   "source": [
    "preds['yhat_mean_res'] = preds['yhat'] - preds['baseline_preds']\n",
    "preds.head()"
   ]
  },
  {
   "cell_type": "code",
   "execution_count": 39,
   "id": "9d567671",
   "metadata": {},
   "outputs": [
    {
     "data": {
      "text/html": [
       "<div>\n",
       "<style scoped>\n",
       "    .dataframe tbody tr th:only-of-type {\n",
       "        vertical-align: middle;\n",
       "    }\n",
       "\n",
       "    .dataframe tbody tr th {\n",
       "        vertical-align: top;\n",
       "    }\n",
       "\n",
       "    .dataframe thead th {\n",
       "        text-align: right;\n",
       "    }\n",
       "</style>\n",
       "<table border=\"1\" class=\"dataframe\">\n",
       "  <thead>\n",
       "    <tr style=\"text-align: right;\">\n",
       "      <th></th>\n",
       "      <th>horsepower</th>\n",
       "      <th>mpg</th>\n",
       "      <th>baseline_preds</th>\n",
       "      <th>yhat</th>\n",
       "      <th>baseline_res</th>\n",
       "      <th>yhat_res</th>\n",
       "      <th>baseline_res_squared</th>\n",
       "      <th>yhat_res_sqaured</th>\n",
       "      <th>yhat_mean_res</th>\n",
       "      <th>yhat_mean_res_squared</th>\n",
       "    </tr>\n",
       "  </thead>\n",
       "  <tbody>\n",
       "    <tr>\n",
       "      <th>212</th>\n",
       "      <td>180.0</td>\n",
       "      <td>16.5</td>\n",
       "      <td>23.5</td>\n",
       "      <td>11.058302</td>\n",
       "      <td>7.0</td>\n",
       "      <td>-5.441698</td>\n",
       "      <td>49.00</td>\n",
       "      <td>29.612081</td>\n",
       "      <td>-12.441698</td>\n",
       "      <td>154.795859</td>\n",
       "    </tr>\n",
       "    <tr>\n",
       "      <th>346</th>\n",
       "      <td>67.0</td>\n",
       "      <td>32.3</td>\n",
       "      <td>23.5</td>\n",
       "      <td>30.114463</td>\n",
       "      <td>-8.8</td>\n",
       "      <td>-2.185537</td>\n",
       "      <td>77.44</td>\n",
       "      <td>4.776574</td>\n",
       "      <td>6.614463</td>\n",
       "      <td>43.751116</td>\n",
       "    </tr>\n",
       "    <tr>\n",
       "      <th>325</th>\n",
       "      <td>48.0</td>\n",
       "      <td>44.3</td>\n",
       "      <td>23.5</td>\n",
       "      <td>33.318596</td>\n",
       "      <td>-20.8</td>\n",
       "      <td>-10.981404</td>\n",
       "      <td>432.64</td>\n",
       "      <td>120.591236</td>\n",
       "      <td>9.818596</td>\n",
       "      <td>96.404826</td>\n",
       "    </tr>\n",
       "    <tr>\n",
       "      <th>90</th>\n",
       "      <td>198.0</td>\n",
       "      <td>12.0</td>\n",
       "      <td>23.5</td>\n",
       "      <td>8.022807</td>\n",
       "      <td>11.5</td>\n",
       "      <td>-3.977193</td>\n",
       "      <td>132.25</td>\n",
       "      <td>15.818065</td>\n",
       "      <td>-15.477193</td>\n",
       "      <td>239.543505</td>\n",
       "    </tr>\n",
       "    <tr>\n",
       "      <th>246</th>\n",
       "      <td>52.0</td>\n",
       "      <td>32.8</td>\n",
       "      <td>23.5</td>\n",
       "      <td>32.644042</td>\n",
       "      <td>-9.3</td>\n",
       "      <td>-0.155958</td>\n",
       "      <td>86.49</td>\n",
       "      <td>0.024323</td>\n",
       "      <td>9.144042</td>\n",
       "      <td>83.613496</td>\n",
       "    </tr>\n",
       "  </tbody>\n",
       "</table>\n",
       "</div>"
      ],
      "text/plain": [
       "     horsepower   mpg  baseline_preds       yhat  baseline_res   yhat_res  \\\n",
       "212       180.0  16.5            23.5  11.058302           7.0  -5.441698   \n",
       "346        67.0  32.3            23.5  30.114463          -8.8  -2.185537   \n",
       "325        48.0  44.3            23.5  33.318596         -20.8 -10.981404   \n",
       "90        198.0  12.0            23.5   8.022807          11.5  -3.977193   \n",
       "246        52.0  32.8            23.5  32.644042          -9.3  -0.155958   \n",
       "\n",
       "     baseline_res_squared  yhat_res_sqaured  yhat_mean_res  \\\n",
       "212                 49.00         29.612081     -12.441698   \n",
       "346                 77.44          4.776574       6.614463   \n",
       "325                432.64        120.591236       9.818596   \n",
       "90                 132.25         15.818065     -15.477193   \n",
       "246                 86.49          0.024323       9.144042   \n",
       "\n",
       "     yhat_mean_res_squared  \n",
       "212             154.795859  \n",
       "346              43.751116  \n",
       "325              96.404826  \n",
       "90              239.543505  \n",
       "246              83.613496  "
      ]
     },
     "execution_count": 39,
     "metadata": {},
     "output_type": "execute_result"
    }
   ],
   "source": [
    "preds['yhat_mean_res_squared'] = preds['yhat_mean_res'] ** 2\n",
    "preds.head()"
   ]
  },
  {
   "cell_type": "code",
   "execution_count": 40,
   "id": "7e9f5555",
   "metadata": {},
   "outputs": [
    {
     "data": {
      "text/plain": [
       "9975.360722188278"
      ]
     },
     "execution_count": 40,
     "metadata": {},
     "output_type": "execute_result"
    }
   ],
   "source": [
    "ess_baseline = 0\n",
    "ess_yhat = preds['yhat_mean_res_squared'].sum()\n",
    "ess_yhat"
   ]
  },
  {
   "cell_type": "markdown",
   "id": "b50da067",
   "metadata": {},
   "source": [
    "## Compute TSS\n",
    "\n",
    "TSS - Total Sum of Squares\n",
    "\n",
    "ESS + SSE"
   ]
  },
  {
   "cell_type": "code",
   "execution_count": 45,
   "id": "bcdb979a",
   "metadata": {},
   "outputs": [
    {
     "data": {
      "text/plain": [
       "15330.830000000002"
      ]
     },
     "execution_count": 45,
     "metadata": {},
     "output_type": "execute_result"
    }
   ],
   "source": [
    "tss_baseline = sse_baseline + ess_baseline\n",
    "tss_baseline"
   ]
  },
  {
   "cell_type": "code",
   "execution_count": 43,
   "id": "176b13b0",
   "metadata": {},
   "outputs": [
    {
     "data": {
      "text/plain": [
       "15330.829999999994"
      ]
     },
     "execution_count": 43,
     "metadata": {},
     "output_type": "execute_result"
    }
   ],
   "source": [
    "tss_yhat = sse_yhat + ess_yhat\n",
    "tss_yhat"
   ]
  },
  {
   "cell_type": "markdown",
   "id": "2cdf240a",
   "metadata": {},
   "source": [
    "## Putting it all together"
   ]
  },
  {
   "cell_type": "code",
   "execution_count": 47,
   "id": "921307ec",
   "metadata": {},
   "outputs": [
    {
     "data": {
      "text/plain": [
       "0.0"
      ]
     },
     "execution_count": 47,
     "metadata": {},
     "output_type": "execute_result"
    }
   ],
   "source": [
    "ess_baseline / tss_baseline"
   ]
  },
  {
   "cell_type": "code",
   "execution_count": 49,
   "id": "3c63e445",
   "metadata": {},
   "outputs": [
    {
     "data": {
      "text/plain": [
       "0.6506732330988134"
      ]
     },
     "execution_count": 49,
     "metadata": {},
     "output_type": "execute_result"
    }
   ],
   "source": [
    "ess_yhat / tss_yhat"
   ]
  },
  {
   "cell_type": "markdown",
   "id": "479763a6",
   "metadata": {},
   "source": [
    "## Using Sklearn library instead\n",
    "\n",
    "explained_variance_score"
   ]
  },
  {
   "cell_type": "code",
   "execution_count": 50,
   "id": "6efe19bd",
   "metadata": {},
   "outputs": [
    {
     "data": {
      "text/plain": [
       "0.6506731545601601"
      ]
     },
     "execution_count": 50,
     "metadata": {},
     "output_type": "execute_result"
    }
   ],
   "source": [
    "explained_variance_score(preds['mpg'],preds['yhat'])"
   ]
  },
  {
   "cell_type": "code",
   "execution_count": null,
   "id": "055c3427",
   "metadata": {},
   "outputs": [],
   "source": []
  }
 ],
 "metadata": {
  "kernelspec": {
   "display_name": "Python 3 (ipykernel)",
   "language": "python",
   "name": "python3"
  },
  "language_info": {
   "codemirror_mode": {
    "name": "ipython",
    "version": 3
   },
   "file_extension": ".py",
   "mimetype": "text/x-python",
   "name": "python",
   "nbconvert_exporter": "python",
   "pygments_lexer": "ipython3",
   "version": "3.9.13"
  }
 },
 "nbformat": 4,
 "nbformat_minor": 5
}
